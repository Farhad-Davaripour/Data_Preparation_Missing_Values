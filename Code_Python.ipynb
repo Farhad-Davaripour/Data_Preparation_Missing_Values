{
 "cells": [
  {
   "cell_type": "markdown",
   "id": "6925ebb0",
   "metadata": {},
   "source": [
    "### This hands-on lab is to pre-process an auto dataset and perform descriptive statistical analyses. \n",
    "✔ link to download the data set: [Link](https://cf-courses-data.s3.us.cloud-object-storage.appdomain.cloud/IBMDeveloperSkillsNetwork-DA0101EN-SkillsNetwork/labs/Data%20files/auto.csv)"
   ]
  },
  {
   "cell_type": "code",
   "execution_count": 427,
   "id": "b0408df3",
   "metadata": {},
   "outputs": [],
   "source": [
    "import os\n",
    "import pandas as pd\n",
    "import numpy as np\n",
    "import matplotlib.pyplot as plt\n",
    "import seaborn as sns\n",
    "import scipy\n",
    "import itertools\n",
    "from sklearn.linear_model import LinearRegression\n",
    "from sklearn.preprocessing import PolynomialFeatures, StandardScaler\n",
    "from sklearn.pipeline import Pipeline\n",
    "from sklearn.metrics import mean_squared_error as mse, r2_score"
   ]
  },
  {
   "cell_type": "code",
   "execution_count": 2,
   "id": "7750e595",
   "metadata": {},
   "outputs": [],
   "source": [
    "# Changing the current directory\n",
    "os.chdir('G:\\My Drive\\Career\\IBM certificate\\Database')"
   ]
  },
  {
   "cell_type": "code",
   "execution_count": 3,
   "id": "dffeb5bd",
   "metadata": {},
   "outputs": [],
   "source": [
    "# reading the csv file using Pandas library\n",
    "url=\"https://cf-courses-data.s3.us.cloud-object-storage.appdomain.cloud/IBMDeveloperSkillsNetwork-DA0101EN-SkillsNetwork/labs/Data%20files/auto.csv\"\n",
    "df = pd.read_csv(url, header=None) # storing the csv file in a data frame named df"
   ]
  },
  {
   "cell_type": "code",
   "execution_count": 4,
   "id": "76c8e9a2",
   "metadata": {},
   "outputs": [],
   "source": [
    "# add header manually to df\n",
    "headers = [\"symboling\",\"normalized-losses\",\"make\",\"fuel-type\",\"aspiration\", \"num-of-doors\",\"body-style\",\n",
    "         \"drive-wheels\",\"engine-location\",\"wheel-base\", \"length\",\"width\",\"height\",\"curb-weight\",\"engine-type\",\n",
    "         \"num-of-cylinders\", \"engine-size\",\"fuel-system\",\"bore\",\"stroke\",\"compression-ratio\",\"horsepower\",\n",
    "         \"peak-rpm\",\"city-mpg\",\"highway-mpg\",\"price\"]\n",
    "df.columns = headers"
   ]
  },
  {
   "cell_type": "markdown",
   "id": "653fa5bb",
   "metadata": {},
   "source": [
    "## Rreliminary conversion"
   ]
  },
  {
   "cell_type": "code",
   "execution_count": 5,
   "id": "1fbb792a",
   "metadata": {},
   "outputs": [],
   "source": [
    "# thic converts mile per gallon to km per liter\n",
    "df['city-mpg']=df['city-mpg']*0.425144\n",
    "df['highway-mpg']=df['highway-mpg']*0.425144"
   ]
  },
  {
   "cell_type": "markdown",
   "id": "a8c346ad",
   "metadata": {},
   "source": [
    "## Missing values\n",
    "In this section missing values are identified and replaced with appropriate values. "
   ]
  },
  {
   "cell_type": "code",
   "execution_count": 6,
   "id": "e56f280d",
   "metadata": {},
   "outputs": [
    {
     "data": {
      "text/html": [
       "<div>\n",
       "<style scoped>\n",
       "    .dataframe tbody tr th:only-of-type {\n",
       "        vertical-align: middle;\n",
       "    }\n",
       "\n",
       "    .dataframe tbody tr th {\n",
       "        vertical-align: top;\n",
       "    }\n",
       "\n",
       "    .dataframe thead th {\n",
       "        text-align: right;\n",
       "    }\n",
       "</style>\n",
       "<table border=\"1\" class=\"dataframe\">\n",
       "  <thead>\n",
       "    <tr style=\"text-align: right;\">\n",
       "      <th></th>\n",
       "      <th>symboling</th>\n",
       "      <th>normalized-losses</th>\n",
       "      <th>make</th>\n",
       "      <th>fuel-type</th>\n",
       "      <th>aspiration</th>\n",
       "      <th>num-of-doors</th>\n",
       "      <th>body-style</th>\n",
       "      <th>drive-wheels</th>\n",
       "      <th>engine-location</th>\n",
       "      <th>wheel-base</th>\n",
       "      <th>...</th>\n",
       "      <th>engine-size</th>\n",
       "      <th>fuel-system</th>\n",
       "      <th>bore</th>\n",
       "      <th>stroke</th>\n",
       "      <th>compression-ratio</th>\n",
       "      <th>horsepower</th>\n",
       "      <th>peak-rpm</th>\n",
       "      <th>city-mpg</th>\n",
       "      <th>highway-mpg</th>\n",
       "      <th>price</th>\n",
       "    </tr>\n",
       "  </thead>\n",
       "  <tbody>\n",
       "    <tr>\n",
       "      <th>0</th>\n",
       "      <td>3</td>\n",
       "      <td>?</td>\n",
       "      <td>alfa-romero</td>\n",
       "      <td>gas</td>\n",
       "      <td>std</td>\n",
       "      <td>two</td>\n",
       "      <td>convertible</td>\n",
       "      <td>rwd</td>\n",
       "      <td>front</td>\n",
       "      <td>88.6</td>\n",
       "      <td>...</td>\n",
       "      <td>130</td>\n",
       "      <td>mpfi</td>\n",
       "      <td>3.47</td>\n",
       "      <td>2.68</td>\n",
       "      <td>9.0</td>\n",
       "      <td>111</td>\n",
       "      <td>5000</td>\n",
       "      <td>8.928024</td>\n",
       "      <td>11.478888</td>\n",
       "      <td>13495</td>\n",
       "    </tr>\n",
       "    <tr>\n",
       "      <th>1</th>\n",
       "      <td>3</td>\n",
       "      <td>?</td>\n",
       "      <td>alfa-romero</td>\n",
       "      <td>gas</td>\n",
       "      <td>std</td>\n",
       "      <td>two</td>\n",
       "      <td>convertible</td>\n",
       "      <td>rwd</td>\n",
       "      <td>front</td>\n",
       "      <td>88.6</td>\n",
       "      <td>...</td>\n",
       "      <td>130</td>\n",
       "      <td>mpfi</td>\n",
       "      <td>3.47</td>\n",
       "      <td>2.68</td>\n",
       "      <td>9.0</td>\n",
       "      <td>111</td>\n",
       "      <td>5000</td>\n",
       "      <td>8.928024</td>\n",
       "      <td>11.478888</td>\n",
       "      <td>16500</td>\n",
       "    </tr>\n",
       "    <tr>\n",
       "      <th>2</th>\n",
       "      <td>1</td>\n",
       "      <td>?</td>\n",
       "      <td>alfa-romero</td>\n",
       "      <td>gas</td>\n",
       "      <td>std</td>\n",
       "      <td>two</td>\n",
       "      <td>hatchback</td>\n",
       "      <td>rwd</td>\n",
       "      <td>front</td>\n",
       "      <td>94.5</td>\n",
       "      <td>...</td>\n",
       "      <td>152</td>\n",
       "      <td>mpfi</td>\n",
       "      <td>2.68</td>\n",
       "      <td>3.47</td>\n",
       "      <td>9.0</td>\n",
       "      <td>154</td>\n",
       "      <td>5000</td>\n",
       "      <td>8.077736</td>\n",
       "      <td>11.053744</td>\n",
       "      <td>16500</td>\n",
       "    </tr>\n",
       "    <tr>\n",
       "      <th>3</th>\n",
       "      <td>2</td>\n",
       "      <td>164</td>\n",
       "      <td>audi</td>\n",
       "      <td>gas</td>\n",
       "      <td>std</td>\n",
       "      <td>four</td>\n",
       "      <td>sedan</td>\n",
       "      <td>fwd</td>\n",
       "      <td>front</td>\n",
       "      <td>99.8</td>\n",
       "      <td>...</td>\n",
       "      <td>109</td>\n",
       "      <td>mpfi</td>\n",
       "      <td>3.19</td>\n",
       "      <td>3.40</td>\n",
       "      <td>10.0</td>\n",
       "      <td>102</td>\n",
       "      <td>5500</td>\n",
       "      <td>10.203456</td>\n",
       "      <td>12.754320</td>\n",
       "      <td>13950</td>\n",
       "    </tr>\n",
       "    <tr>\n",
       "      <th>4</th>\n",
       "      <td>2</td>\n",
       "      <td>164</td>\n",
       "      <td>audi</td>\n",
       "      <td>gas</td>\n",
       "      <td>std</td>\n",
       "      <td>four</td>\n",
       "      <td>sedan</td>\n",
       "      <td>4wd</td>\n",
       "      <td>front</td>\n",
       "      <td>99.4</td>\n",
       "      <td>...</td>\n",
       "      <td>136</td>\n",
       "      <td>mpfi</td>\n",
       "      <td>3.19</td>\n",
       "      <td>3.40</td>\n",
       "      <td>8.0</td>\n",
       "      <td>115</td>\n",
       "      <td>5500</td>\n",
       "      <td>7.652592</td>\n",
       "      <td>9.353168</td>\n",
       "      <td>17450</td>\n",
       "    </tr>\n",
       "  </tbody>\n",
       "</table>\n",
       "<p>5 rows × 26 columns</p>\n",
       "</div>"
      ],
      "text/plain": [
       "   symboling normalized-losses         make fuel-type aspiration num-of-doors  \\\n",
       "0          3                 ?  alfa-romero       gas        std          two   \n",
       "1          3                 ?  alfa-romero       gas        std          two   \n",
       "2          1                 ?  alfa-romero       gas        std          two   \n",
       "3          2               164         audi       gas        std         four   \n",
       "4          2               164         audi       gas        std         four   \n",
       "\n",
       "    body-style drive-wheels engine-location  wheel-base  ...  engine-size  \\\n",
       "0  convertible          rwd           front        88.6  ...          130   \n",
       "1  convertible          rwd           front        88.6  ...          130   \n",
       "2    hatchback          rwd           front        94.5  ...          152   \n",
       "3        sedan          fwd           front        99.8  ...          109   \n",
       "4        sedan          4wd           front        99.4  ...          136   \n",
       "\n",
       "   fuel-system  bore  stroke compression-ratio horsepower  peak-rpm  \\\n",
       "0         mpfi  3.47    2.68               9.0        111      5000   \n",
       "1         mpfi  3.47    2.68               9.0        111      5000   \n",
       "2         mpfi  2.68    3.47               9.0        154      5000   \n",
       "3         mpfi  3.19    3.40              10.0        102      5500   \n",
       "4         mpfi  3.19    3.40               8.0        115      5500   \n",
       "\n",
       "    city-mpg highway-mpg  price  \n",
       "0   8.928024   11.478888  13495  \n",
       "1   8.928024   11.478888  16500  \n",
       "2   8.077736   11.053744  16500  \n",
       "3  10.203456   12.754320  13950  \n",
       "4   7.652592    9.353168  17450  \n",
       "\n",
       "[5 rows x 26 columns]"
      ]
     },
     "execution_count": 6,
     "metadata": {},
     "output_type": "execute_result"
    }
   ],
   "source": [
    "df.head(5)"
   ]
  },
  {
   "cell_type": "markdown",
   "id": "0f166708",
   "metadata": {},
   "source": [
    "**Discussion**: Looking at the data frame header above shows there are a few cells with \"?\" as value. These cells should be replaced with none values using numpy.nan."
   ]
  },
  {
   "cell_type": "code",
   "execution_count": 7,
   "id": "2ec5f971",
   "metadata": {},
   "outputs": [],
   "source": [
    "# replace the missing values with np.nan\n",
    "df = df.replace('?',np.nan)"
   ]
  },
  {
   "cell_type": "code",
   "execution_count": 8,
   "id": "48ee8710",
   "metadata": {},
   "outputs": [
    {
     "name": "stdout",
     "output_type": "stream",
     "text": [
      "NORMALIZED-LOSSES : False    164\n",
      "True      41\n",
      "Name: normalized-losses, dtype: int64 \n",
      "\n",
      "NUM-OF-DOORS : False    203\n",
      "True       2\n",
      "Name: num-of-doors, dtype: int64 \n",
      "\n",
      "BORE : False    201\n",
      "True       4\n",
      "Name: bore, dtype: int64 \n",
      "\n",
      "STROKE : False    201\n",
      "True       4\n",
      "Name: stroke, dtype: int64 \n",
      "\n",
      "HORSEPOWER : False    203\n",
      "True       2\n",
      "Name: horsepower, dtype: int64 \n",
      "\n",
      "PEAK-RPM : False    203\n",
      "True       2\n",
      "Name: peak-rpm, dtype: int64 \n",
      "\n",
      "PRICE : False    201\n",
      "True       4\n",
      "Name: price, dtype: int64 \n",
      "\n"
     ]
    },
    {
     "data": {
      "text/plain": [
       "['normalized-losses',\n",
       " 'num-of-doors',\n",
       " 'bore',\n",
       " 'stroke',\n",
       " 'horsepower',\n",
       " 'peak-rpm',\n",
       " 'price']"
      ]
     },
     "execution_count": 8,
     "metadata": {},
     "output_type": "execute_result"
    }
   ],
   "source": [
    "# we can now count the number of missing values\n",
    "df_nan = df.isnull()\n",
    "column_with_nan = []\n",
    "for column in df_nan.columns.values.tolist():\n",
    "    if True in df_nan[column].values:\n",
    "        print(column.upper(),\":\" , df_nan[column].value_counts(),'\\n')\n",
    "        column_with_nan.append(column)\n",
    "column_with_nan"
   ]
  },
  {
   "cell_type": "markdown",
   "id": "068822fe",
   "metadata": {},
   "source": [
    "**Discussion**: The number of missing values are highest in the normalized-losses column (around 25%). These cells should be replaced by a value which represents the rest of data. The list of columns with missing values are also provided above."
   ]
  },
  {
   "cell_type": "markdown",
   "id": "87b43cac",
   "metadata": {},
   "source": [
    "#### Replacing the missing values with average value"
   ]
  },
  {
   "cell_type": "code",
   "execution_count": 9,
   "id": "d4ece4aa",
   "metadata": {},
   "outputs": [
    {
     "data": {
      "text/html": [
       "<div>\n",
       "<style scoped>\n",
       "    .dataframe tbody tr th:only-of-type {\n",
       "        vertical-align: middle;\n",
       "    }\n",
       "\n",
       "    .dataframe tbody tr th {\n",
       "        vertical-align: top;\n",
       "    }\n",
       "\n",
       "    .dataframe thead th {\n",
       "        text-align: right;\n",
       "    }\n",
       "</style>\n",
       "<table border=\"1\" class=\"dataframe\">\n",
       "  <thead>\n",
       "    <tr style=\"text-align: right;\">\n",
       "      <th></th>\n",
       "      <th>normalized-losses</th>\n",
       "      <th>num-of-doors</th>\n",
       "      <th>bore</th>\n",
       "      <th>stroke</th>\n",
       "      <th>horsepower</th>\n",
       "      <th>peak-rpm</th>\n",
       "      <th>price</th>\n",
       "    </tr>\n",
       "  </thead>\n",
       "  <tbody>\n",
       "    <tr>\n",
       "      <th>0</th>\n",
       "      <td>NaN</td>\n",
       "      <td>two</td>\n",
       "      <td>3.47</td>\n",
       "      <td>2.68</td>\n",
       "      <td>111</td>\n",
       "      <td>5000</td>\n",
       "      <td>13495</td>\n",
       "    </tr>\n",
       "    <tr>\n",
       "      <th>1</th>\n",
       "      <td>NaN</td>\n",
       "      <td>two</td>\n",
       "      <td>3.47</td>\n",
       "      <td>2.68</td>\n",
       "      <td>111</td>\n",
       "      <td>5000</td>\n",
       "      <td>16500</td>\n",
       "    </tr>\n",
       "    <tr>\n",
       "      <th>2</th>\n",
       "      <td>NaN</td>\n",
       "      <td>two</td>\n",
       "      <td>2.68</td>\n",
       "      <td>3.47</td>\n",
       "      <td>154</td>\n",
       "      <td>5000</td>\n",
       "      <td>16500</td>\n",
       "    </tr>\n",
       "    <tr>\n",
       "      <th>3</th>\n",
       "      <td>164</td>\n",
       "      <td>four</td>\n",
       "      <td>3.19</td>\n",
       "      <td>3.40</td>\n",
       "      <td>102</td>\n",
       "      <td>5500</td>\n",
       "      <td>13950</td>\n",
       "    </tr>\n",
       "  </tbody>\n",
       "</table>\n",
       "</div>"
      ],
      "text/plain": [
       "  normalized-losses num-of-doors  bore stroke horsepower peak-rpm  price\n",
       "0               NaN          two  3.47   2.68        111     5000  13495\n",
       "1               NaN          two  3.47   2.68        111     5000  16500\n",
       "2               NaN          two  2.68   3.47        154     5000  16500\n",
       "3               164         four  3.19   3.40        102     5500  13950"
      ]
     },
     "execution_count": 9,
     "metadata": {},
     "output_type": "execute_result"
    }
   ],
   "source": [
    "# all the columns with missing values are assigned to the data frame df_with_nan\n",
    "df_with_nan=pd.DataFrame()\n",
    "for a in column_with_nan:\n",
    "    df_with_nan[a]=df[a]\n",
    "df_with_nan.head(4)"
   ]
  },
  {
   "cell_type": "markdown",
   "id": "c43d9626",
   "metadata": {},
   "source": [
    "**Discussion**: The data frame with missing values (df_with_nan) includes columns with numeric values and object data type (only one column has object data type)."
   ]
  },
  {
   "cell_type": "code",
   "execution_count": 10,
   "id": "24604361",
   "metadata": {},
   "outputs": [
    {
     "data": {
      "text/plain": [
       "array(['two', 'four', nan], dtype=object)"
      ]
     },
     "execution_count": 10,
     "metadata": {},
     "output_type": "execute_result"
    }
   ],
   "source": [
    "df_with_nan['num-of-doors'].unique()"
   ]
  },
  {
   "cell_type": "markdown",
   "id": "5fa01f7c",
   "metadata": {},
   "source": [
    "**Discussion**: There are two types of values (two and four) in the column num-of-doors. let's count the number of each value type."
   ]
  },
  {
   "cell_type": "code",
   "execution_count": 11,
   "id": "3555a0c0",
   "metadata": {},
   "outputs": [
    {
     "name": "stdout",
     "output_type": "stream",
     "text": [
      "four    114\n",
      "two      89\n",
      "Name: num-of-doors, dtype: int64\n",
      "number of missing values is equal to 2\n"
     ]
    }
   ],
   "source": [
    "door_value_count = df_with_nan['num-of-doors'].value_counts()\n",
    "print(door_value_count)\n",
    "print(f\"number of missing values is equal to {205-door_value_count[0]-door_value_count[1]}\")"
   ]
  },
  {
   "cell_type": "markdown",
   "id": "32686070",
   "metadata": {},
   "source": [
    "**Discussion**: Only 2 values are missing values. These two values will be replaced by four which has the highest frequency in the column."
   ]
  },
  {
   "cell_type": "code",
   "execution_count": 12,
   "id": "a4a1b4c2",
   "metadata": {},
   "outputs": [
    {
     "name": "stdout",
     "output_type": "stream",
     "text": [
      "['normalized-losses', 'bore', 'stroke', 'horsepower', 'peak-rpm', 'price']\n"
     ]
    }
   ],
   "source": [
    "df_with_nan['num-of-doors'].replace(np.nan,'four',inplace=True)\n",
    "column_with_nan.remove('num-of-doors')\n",
    "print(column_with_nan)"
   ]
  },
  {
   "cell_type": "markdown",
   "id": "ffe5e696",
   "metadata": {},
   "source": [
    "**Discussion**: The null values in the column num-of-doors are replaced with 'four' and this element is removed from the list column_with_nan. For the remaining elements in the list,the missing values are replaced with the average values of the column. The code is presented in the cell below. "
   ]
  },
  {
   "cell_type": "code",
   "execution_count": 13,
   "id": "167be1a3",
   "metadata": {},
   "outputs": [],
   "source": [
    "for column in column_with_nan:\n",
    "    df[column] = df[column].astype('float') # change the data type to float\n",
    "    normalized_not_null = df[df[column].notnull()][column] # filter only the not null values\n",
    "    normalized_not_null_avg = normalized_not_null.mean() # find the average value of the column\n",
    "    df[column].replace(np.nan,normalized_not_null_avg, inplace=True) # replace the missing value with the average value"
   ]
  },
  {
   "cell_type": "markdown",
   "id": "81cda5d6",
   "metadata": {},
   "source": [
    "**Discussion**: All the missing values in the data frame df are replaced with an appropriate value"
   ]
  },
  {
   "cell_type": "markdown",
   "id": "d90e76ff",
   "metadata": {},
   "source": [
    "## Normalizing dataframe in python"
   ]
  },
  {
   "cell_type": "markdown",
   "id": "5e61db75",
   "metadata": {},
   "source": [
    "Normalizing the columns that have different ranges of numerical data helps the accuracy of the machine learning models."
   ]
  },
  {
   "cell_type": "code",
   "execution_count": 14,
   "id": "0cad2f58",
   "metadata": {},
   "outputs": [],
   "source": [
    "# let's find the columns with non object type values\n",
    "column_not_object = []\n",
    "for d in df.columns:\n",
    "    if df[d].dtype!=object:\n",
    "        column_not_object.append(d)"
   ]
  },
  {
   "cell_type": "code",
   "execution_count": 15,
   "id": "c1071750",
   "metadata": {},
   "outputs": [
    {
     "data": {
      "text/html": [
       "<div>\n",
       "<style scoped>\n",
       "    .dataframe tbody tr th:only-of-type {\n",
       "        vertical-align: middle;\n",
       "    }\n",
       "\n",
       "    .dataframe tbody tr th {\n",
       "        vertical-align: top;\n",
       "    }\n",
       "\n",
       "    .dataframe thead th {\n",
       "        text-align: right;\n",
       "    }\n",
       "</style>\n",
       "<table border=\"1\" class=\"dataframe\">\n",
       "  <thead>\n",
       "    <tr style=\"text-align: right;\">\n",
       "      <th></th>\n",
       "      <th>column name</th>\n",
       "      <th>min</th>\n",
       "      <th>max</th>\n",
       "    </tr>\n",
       "  </thead>\n",
       "  <tbody>\n",
       "    <tr>\n",
       "      <th>0</th>\n",
       "      <td>symboling</td>\n",
       "      <td>-2.000000</td>\n",
       "      <td>3.000000</td>\n",
       "    </tr>\n",
       "    <tr>\n",
       "      <th>1</th>\n",
       "      <td>normalized-losses</td>\n",
       "      <td>65.000000</td>\n",
       "      <td>256.000000</td>\n",
       "    </tr>\n",
       "    <tr>\n",
       "      <th>2</th>\n",
       "      <td>wheel-base</td>\n",
       "      <td>86.600000</td>\n",
       "      <td>120.900000</td>\n",
       "    </tr>\n",
       "    <tr>\n",
       "      <th>3</th>\n",
       "      <td>length</td>\n",
       "      <td>141.100000</td>\n",
       "      <td>208.100000</td>\n",
       "    </tr>\n",
       "    <tr>\n",
       "      <th>4</th>\n",
       "      <td>width</td>\n",
       "      <td>60.300000</td>\n",
       "      <td>72.300000</td>\n",
       "    </tr>\n",
       "    <tr>\n",
       "      <th>5</th>\n",
       "      <td>height</td>\n",
       "      <td>47.800000</td>\n",
       "      <td>59.800000</td>\n",
       "    </tr>\n",
       "    <tr>\n",
       "      <th>6</th>\n",
       "      <td>curb-weight</td>\n",
       "      <td>1488.000000</td>\n",
       "      <td>4066.000000</td>\n",
       "    </tr>\n",
       "    <tr>\n",
       "      <th>7</th>\n",
       "      <td>engine-size</td>\n",
       "      <td>61.000000</td>\n",
       "      <td>326.000000</td>\n",
       "    </tr>\n",
       "    <tr>\n",
       "      <th>8</th>\n",
       "      <td>bore</td>\n",
       "      <td>2.540000</td>\n",
       "      <td>3.940000</td>\n",
       "    </tr>\n",
       "    <tr>\n",
       "      <th>9</th>\n",
       "      <td>stroke</td>\n",
       "      <td>2.070000</td>\n",
       "      <td>4.170000</td>\n",
       "    </tr>\n",
       "    <tr>\n",
       "      <th>10</th>\n",
       "      <td>compression-ratio</td>\n",
       "      <td>7.000000</td>\n",
       "      <td>23.000000</td>\n",
       "    </tr>\n",
       "    <tr>\n",
       "      <th>11</th>\n",
       "      <td>horsepower</td>\n",
       "      <td>48.000000</td>\n",
       "      <td>288.000000</td>\n",
       "    </tr>\n",
       "    <tr>\n",
       "      <th>12</th>\n",
       "      <td>peak-rpm</td>\n",
       "      <td>4150.000000</td>\n",
       "      <td>6600.000000</td>\n",
       "    </tr>\n",
       "    <tr>\n",
       "      <th>13</th>\n",
       "      <td>city-mpg</td>\n",
       "      <td>5.526872</td>\n",
       "      <td>20.832056</td>\n",
       "    </tr>\n",
       "    <tr>\n",
       "      <th>14</th>\n",
       "      <td>highway-mpg</td>\n",
       "      <td>6.802304</td>\n",
       "      <td>22.957776</td>\n",
       "    </tr>\n",
       "    <tr>\n",
       "      <th>15</th>\n",
       "      <td>price</td>\n",
       "      <td>5118.000000</td>\n",
       "      <td>45400.000000</td>\n",
       "    </tr>\n",
       "  </tbody>\n",
       "</table>\n",
       "</div>"
      ],
      "text/plain": [
       "          column name          min           max\n",
       "0           symboling    -2.000000      3.000000\n",
       "1   normalized-losses    65.000000    256.000000\n",
       "2          wheel-base    86.600000    120.900000\n",
       "3              length   141.100000    208.100000\n",
       "4               width    60.300000     72.300000\n",
       "5              height    47.800000     59.800000\n",
       "6         curb-weight  1488.000000   4066.000000\n",
       "7         engine-size    61.000000    326.000000\n",
       "8                bore     2.540000      3.940000\n",
       "9              stroke     2.070000      4.170000\n",
       "10  compression-ratio     7.000000     23.000000\n",
       "11         horsepower    48.000000    288.000000\n",
       "12           peak-rpm  4150.000000   6600.000000\n",
       "13           city-mpg     5.526872     20.832056\n",
       "14        highway-mpg     6.802304     22.957776\n",
       "15              price  5118.000000  45400.000000"
      ]
     },
     "execution_count": 15,
     "metadata": {},
     "output_type": "execute_result"
    }
   ],
   "source": [
    "df_max_not_object=[]\n",
    "df_min_not_object=[]\n",
    "for e in column_not_object:\n",
    "    df_max_not_object.append(df[e].max())\n",
    "    df_min_not_object.append(df[e].min())\n",
    "df_max_min = pd.DataFrame({'column name':column_not_object,'min':df_min_not_object,'max':df_max_not_object})\n",
    "df_max_min"
   ]
  },
  {
   "cell_type": "markdown",
   "id": "6f9c6d45",
   "metadata": {},
   "source": [
    "**Discussion**: The results above shows that data ranges are differently distributed in different columns. For instance the curb-weight and peak-rpm columns have significantly higher data range compared to other feature variables. Let's normalize these two columns."
   ]
  },
  {
   "cell_type": "code",
   "execution_count": 16,
   "id": "2a06dcb9",
   "metadata": {},
   "outputs": [
    {
     "data": {
      "text/html": [
       "<div>\n",
       "<style scoped>\n",
       "    .dataframe tbody tr th:only-of-type {\n",
       "        vertical-align: middle;\n",
       "    }\n",
       "\n",
       "    .dataframe tbody tr th {\n",
       "        vertical-align: top;\n",
       "    }\n",
       "\n",
       "    .dataframe thead th {\n",
       "        text-align: right;\n",
       "    }\n",
       "</style>\n",
       "<table border=\"1\" class=\"dataframe\">\n",
       "  <thead>\n",
       "    <tr style=\"text-align: right;\">\n",
       "      <th></th>\n",
       "      <th>curb-weight</th>\n",
       "      <th>peak-rpm</th>\n",
       "    </tr>\n",
       "  </thead>\n",
       "  <tbody>\n",
       "    <tr>\n",
       "      <th>0</th>\n",
       "      <td>-0.014531</td>\n",
       "      <td>-0.262841</td>\n",
       "    </tr>\n",
       "    <tr>\n",
       "      <th>1</th>\n",
       "      <td>-0.014531</td>\n",
       "      <td>-0.262841</td>\n",
       "    </tr>\n",
       "    <tr>\n",
       "      <th>2</th>\n",
       "      <td>0.513625</td>\n",
       "      <td>-0.262841</td>\n",
       "    </tr>\n",
       "    <tr>\n",
       "      <th>3</th>\n",
       "      <td>-0.419770</td>\n",
       "      <td>0.785423</td>\n",
       "    </tr>\n",
       "    <tr>\n",
       "      <th>4</th>\n",
       "      <td>0.515545</td>\n",
       "      <td>0.785423</td>\n",
       "    </tr>\n",
       "  </tbody>\n",
       "</table>\n",
       "</div>"
      ],
      "text/plain": [
       "   curb-weight  peak-rpm\n",
       "0    -0.014531 -0.262841\n",
       "1    -0.014531 -0.262841\n",
       "2     0.513625 -0.262841\n",
       "3    -0.419770  0.785423\n",
       "4     0.515545  0.785423"
      ]
     },
     "execution_count": 16,
     "metadata": {},
     "output_type": "execute_result"
    }
   ],
   "source": [
    "def normalize_column(col_name):\n",
    "    df[col_name] = (df[col_name]-df[col_name].mean())/df[col_name].std() # (data-mean(column))/std(column)\n",
    "##\n",
    "normalize_column('curb-weight')\n",
    "normalize_column('peak-rpm')\n",
    "df[['curb-weight','peak-rpm']].head(5)"
   ]
  },
  {
   "cell_type": "code",
   "execution_count": 17,
   "id": "01fb9c2a",
   "metadata": {},
   "outputs": [
    {
     "data": {
      "text/plain": [
       "<AxesSubplot:xlabel='curb-weight', ylabel='peak-rpm'>"
      ]
     },
     "execution_count": 17,
     "metadata": {},
     "output_type": "execute_result"
    },
    {
     "data": {
      "image/png": "[encoded data removed]",
      "text/plain": [
       "<Figure size 432x288 with 1 Axes>"
      ]
     },
     "metadata": {
      "needs_background": "light"
     },
     "output_type": "display_data"
    }
   ],
   "source": [
    "%%capture --no-display \n",
    "sns.scatterplot(df['curb-weight'],df['peak-rpm'])"
   ]
  },
  {
   "cell_type": "markdown",
   "id": "82f4db03",
   "metadata": {},
   "source": [
    "**Discussion**: The scatter plot above shows the normalized range of columns curb-weight and peak-rpm which almost between -3 and 3."
   ]
  },
  {
   "cell_type": "markdown",
   "id": "0c136ca2",
   "metadata": {},
   "source": [
    "## Binning in python\n",
    "Let's group the price column to 3 categories including low, medium, and max."
   ]
  },
  {
   "cell_type": "code",
   "execution_count": 18,
   "id": "3f9a57af",
   "metadata": {},
   "outputs": [],
   "source": [
    "df['price'] =  df['price'].astype('float')\n",
    "price = df['price']\n",
    "bins = np.linspace(min(price),max(price),4)\n",
    "group_name = ('low', 'medium' , 'high')\n",
    "df['price_binned']= pd.cut(df['price'] , bins, labels=group_name, include_lowest=True)"
   ]
  },
  {
   "cell_type": "code",
   "execution_count": 19,
   "id": "5001de47",
   "metadata": {},
   "outputs": [
    {
     "data": {
      "text/plain": [
       "Text(0.5, 1.0, 'Price categories')"
      ]
     },
     "execution_count": 19,
     "metadata": {},
     "output_type": "execute_result"
    },
    {
     "data": {
      "image/png": "[encoded data removed]",
      "text/plain": [
       "<Figure size 432x288 with 1 Axes>"
      ]
     },
     "metadata": {
      "needs_background": "light"
     },
     "output_type": "display_data"
    }
   ],
   "source": [
    "%%capture --no-display \n",
    "sns.histplot(df['price_binned'])\n",
    "plt.title('Price categories')"
   ]
  },
  {
   "cell_type": "markdown",
   "id": "ac73ea34",
   "metadata": {},
   "source": [
    "**Discussion**: The plot above shows that the low priced cars (max low priced car <= 33% max car price) have higher population. The other two categories have similar number of data.The number of data in each category is presented below."
   ]
  },
  {
   "cell_type": "code",
   "execution_count": 20,
   "id": "6be8fdac",
   "metadata": {
    "scrolled": true
   },
   "outputs": [
    {
     "data": {
      "text/html": [
       "<div>\n",
       "<style scoped>\n",
       "    .dataframe tbody tr th:only-of-type {\n",
       "        vertical-align: middle;\n",
       "    }\n",
       "\n",
       "    .dataframe tbody tr th {\n",
       "        vertical-align: top;\n",
       "    }\n",
       "\n",
       "    .dataframe thead th {\n",
       "        text-align: right;\n",
       "    }\n",
       "</style>\n",
       "<table border=\"1\" class=\"dataframe\">\n",
       "  <thead>\n",
       "    <tr style=\"text-align: right;\">\n",
       "      <th></th>\n",
       "      <th>price_category</th>\n",
       "      <th>count_value</th>\n",
       "    </tr>\n",
       "  </thead>\n",
       "  <tbody>\n",
       "    <tr>\n",
       "      <th>0</th>\n",
       "      <td>low</td>\n",
       "      <td>175</td>\n",
       "    </tr>\n",
       "    <tr>\n",
       "      <th>1</th>\n",
       "      <td>medium</td>\n",
       "      <td>18</td>\n",
       "    </tr>\n",
       "    <tr>\n",
       "      <th>2</th>\n",
       "      <td>high</td>\n",
       "      <td>12</td>\n",
       "    </tr>\n",
       "  </tbody>\n",
       "</table>\n",
       "</div>"
      ],
      "text/plain": [
       "  price_category  count_value\n",
       "0            low          175\n",
       "1         medium           18\n",
       "2           high           12"
      ]
     },
     "execution_count": 20,
     "metadata": {},
     "output_type": "execute_result"
    }
   ],
   "source": [
    "df_bin_count = df['price_binned'].value_counts().to_frame()\n",
    "df_bin_count.rename(columns={'price_binned':'count_value'},inplace=True)\n",
    "df_bin_count.index.name='price_category'\n",
    "df_bin_count = df_bin_count.reset_index()\n",
    "df_bin_count"
   ]
  },
  {
   "cell_type": "markdown",
   "id": "2c6bb633",
   "metadata": {},
   "source": [
    "\n",
    "## Descriptive statistic analysis:\n",
    "### Continuous variables\n",
    "Extracting the correlation between variables  "
   ]
  },
  {
   "cell_type": "code",
   "execution_count": 21,
   "id": "a2931f43",
   "metadata": {
    "scrolled": true
   },
   "outputs": [
    {
     "data": {
      "text/plain": [
       "<AxesSubplot:>"
      ]
     },
     "execution_count": 21,
     "metadata": {},
     "output_type": "execute_result"
    },
    {
     "data": {
      "image/png": "[encoded data removed]",
      "text/plain": [
       "<Figure size 1080x576 with 2 Axes>"
      ]
     },
     "metadata": {
      "needs_background": "light"
     },
     "output_type": "display_data"
    }
   ],
   "source": [
    "df_corr = df.corr() # extracting the correlation coefficient of all the continuous variables\n",
    "fig, ax=plt.subplots(figsize=(15,8))\n",
    "sns.heatmap(df_corr,annot=True,fmt='.2f',ax=ax,cmap='RdYlGn') # heatmap plot on corr coeffs to display what variables have siginficiant corr coeff"
   ]
  },
  {
   "cell_type": "markdown",
   "id": "07f1c385",
   "metadata": {},
   "source": [
    "**Discussion**: From the heatmap plot above, it could be concluded that it is likely that the below variables are not strong predictive features for the target variable \"price\" (\"i.e., these variables could be excluded in the machine learning model\"):   \n",
    "*symbolling, normalized-losses, height, stroke, compression-ration, peak-rpm*\n",
    "\n",
    "Furthermore, the heatmap plot shows that the **engine-size** is potentially the best predictive feature for the target variable price.\n",
    "\n",
    "Let's plot linear regression lines for engine-size (with highest corr coeff) and stroke (with lowest corr coeff)."
   ]
  },
  {
   "cell_type": "code",
   "execution_count": 22,
   "id": "4387f6b6",
   "metadata": {},
   "outputs": [],
   "source": [
    "def plot_regression(x,y,w,h): # plotting the linear regression and deriving the correlation coefficient for x and y \n",
    "    fig, ax=plt.subplots(figsize=(w,h))\n",
    "    df_limit = df[[x,y]]\n",
    "    plt.scatter(x ,y,data=df_limit)\n",
    "    pr = scipy.stats.pearsonr(df[x],df[y]) # pearsonr method is employed to obtain the cor coeff and p_value\n",
    "    plt.title(f'Corr coeff and p_value for {x} and {y} are equal to \\n' + str(round(pr[0],3))+\" and \"+str(pr[1]))\n",
    "    sns.regplot(x ,y,data=df_limit) # finding the linear regression between the feature variable and target variable"
   ]
  },
  {
   "cell_type": "code",
   "execution_count": 23,
   "id": "57d18f98",
   "metadata": {},
   "outputs": [
    {
     "data": {
      "image/png": "[encoded data removed]",
      "text/plain": [
       "<Figure size 360x360 with 1 Axes>"
      ]
     },
     "metadata": {
      "needs_background": "light"
     },
     "output_type": "display_data"
    },
    {
     "data": {
      "image/png": "[encoded data removed]",
      "text/plain": [
       "<Figure size 360x360 with 1 Axes>"
      ]
     },
     "metadata": {
      "needs_background": "light"
     },
     "output_type": "display_data"
    }
   ],
   "source": [
    "%%capture --no-display \n",
    "# The above magic command is used to prevent displying the warning messages\n",
    "y = 'price' # target variale\n",
    "w = 5 # width of the box plot\n",
    "h = 5 # height of the box plot\n",
    "plot_regression('engine-size',y,w,h)\n",
    "plot_regression('stroke',y,w,h)"
   ]
  },
  {
   "cell_type": "markdown",
   "id": "1807e576",
   "metadata": {},
   "source": [
    "**Discussion**: The plots above shows that as expected the engine-size has a strong positive correlation with the target variable, and stroke has a very small positive correlation with price. Hence, the latter feature may not be a good predictive feature for the price variable. In order to find the strength of the dependency p_value could be extracted using pearsonr method in scipy library as shown in the title of the above plots and also presented below."
   ]
  },
  {
   "cell_type": "code",
   "execution_count": 24,
   "id": "54eec6f4",
   "metadata": {},
   "outputs": [
    {
     "name": "stdout",
     "output_type": "stream",
     "text": [
      "correlation coefficient for engine-size and price = 0.8617522436859719\n",
      "pearson value for engine-size and price = 9.669661923636975e-62\n"
     ]
    }
   ],
   "source": [
    "A='engine-size'\n",
    "B='price'\n",
    "corr_coeff,pearson_value =  scipy.stats.pearsonr(df[A],df[B])\n",
    "print(f'correlation coefficient for {A} and {B} = {corr_coeff}')\n",
    "print(f'pearson value for {A} and {B} = {pearson_value}')"
   ]
  },
  {
   "cell_type": "markdown",
   "id": "015d5ab0",
   "metadata": {},
   "source": [
    "**Discussion**: Since the p value presented above is smaller than 0.001, the correlation between price and engine-size is strong and the null hypothesis could be rejected."
   ]
  },
  {
   "cell_type": "markdown",
   "id": "aed932f2",
   "metadata": {},
   "source": [
    "\n",
    "### Categorical variables\n",
    "Association between variables"
   ]
  },
  {
   "cell_type": "code",
   "execution_count": 25,
   "id": "ae00a159",
   "metadata": {
    "scrolled": true
   },
   "outputs": [
    {
     "data": {
      "text/html": [
       "<div>\n",
       "<style scoped>\n",
       "    .dataframe tbody tr th:only-of-type {\n",
       "        vertical-align: middle;\n",
       "    }\n",
       "\n",
       "    .dataframe tbody tr th {\n",
       "        vertical-align: top;\n",
       "    }\n",
       "\n",
       "    .dataframe thead th {\n",
       "        text-align: right;\n",
       "    }\n",
       "</style>\n",
       "<table border=\"1\" class=\"dataframe\">\n",
       "  <thead>\n",
       "    <tr style=\"text-align: right;\">\n",
       "      <th></th>\n",
       "      <th>make</th>\n",
       "      <th>fuel-type</th>\n",
       "      <th>aspiration</th>\n",
       "      <th>num-of-doors</th>\n",
       "      <th>body-style</th>\n",
       "      <th>drive-wheels</th>\n",
       "      <th>engine-location</th>\n",
       "      <th>engine-type</th>\n",
       "      <th>num-of-cylinders</th>\n",
       "      <th>fuel-system</th>\n",
       "    </tr>\n",
       "  </thead>\n",
       "  <tbody>\n",
       "    <tr>\n",
       "      <th>count</th>\n",
       "      <td>205</td>\n",
       "      <td>205</td>\n",
       "      <td>205</td>\n",
       "      <td>203</td>\n",
       "      <td>205</td>\n",
       "      <td>205</td>\n",
       "      <td>205</td>\n",
       "      <td>205</td>\n",
       "      <td>205</td>\n",
       "      <td>205</td>\n",
       "    </tr>\n",
       "    <tr>\n",
       "      <th>unique</th>\n",
       "      <td>22</td>\n",
       "      <td>2</td>\n",
       "      <td>2</td>\n",
       "      <td>2</td>\n",
       "      <td>5</td>\n",
       "      <td>3</td>\n",
       "      <td>2</td>\n",
       "      <td>7</td>\n",
       "      <td>7</td>\n",
       "      <td>8</td>\n",
       "    </tr>\n",
       "    <tr>\n",
       "      <th>top</th>\n",
       "      <td>toyota</td>\n",
       "      <td>gas</td>\n",
       "      <td>std</td>\n",
       "      <td>four</td>\n",
       "      <td>sedan</td>\n",
       "      <td>fwd</td>\n",
       "      <td>front</td>\n",
       "      <td>ohc</td>\n",
       "      <td>four</td>\n",
       "      <td>mpfi</td>\n",
       "    </tr>\n",
       "    <tr>\n",
       "      <th>freq</th>\n",
       "      <td>32</td>\n",
       "      <td>185</td>\n",
       "      <td>168</td>\n",
       "      <td>114</td>\n",
       "      <td>96</td>\n",
       "      <td>120</td>\n",
       "      <td>202</td>\n",
       "      <td>148</td>\n",
       "      <td>159</td>\n",
       "      <td>94</td>\n",
       "    </tr>\n",
       "  </tbody>\n",
       "</table>\n",
       "</div>"
      ],
      "text/plain": [
       "          make fuel-type aspiration num-of-doors body-style drive-wheels  \\\n",
       "count      205       205        205          203        205          205   \n",
       "unique      22         2          2            2          5            3   \n",
       "top     toyota       gas        std         four      sedan          fwd   \n",
       "freq        32       185        168          114         96          120   \n",
       "\n",
       "       engine-location engine-type num-of-cylinders fuel-system  \n",
       "count              205         205              205         205  \n",
       "unique               2           7                7           8  \n",
       "top              front         ohc             four        mpfi  \n",
       "freq               202         148              159          94  "
      ]
     },
     "execution_count": 25,
     "metadata": {},
     "output_type": "execute_result"
    }
   ],
   "source": [
    "# let's first describe the object features\n",
    "df.describe(include='object')"
   ]
  },
  {
   "cell_type": "markdown",
   "id": "99d7a994",
   "metadata": {},
   "source": [
    "**Discussion**: It seems to me that the feature make is a good predictive feature since it has a highest number of unique values. "
   ]
  },
  {
   "cell_type": "markdown",
   "id": "0c710975",
   "metadata": {},
   "source": [
    "Firstly, let's check the **analysis of variance (ANOVA)** showing if there is a large difference between two or more groups within the feature variable make."
   ]
  },
  {
   "cell_type": "code",
   "execution_count": 26,
   "id": "c057c6c7",
   "metadata": {},
   "outputs": [],
   "source": [
    "unique_make_list = [] # this creats a list of unique elements within the column make\n",
    "for b in df['make'].unique():\n",
    "    unique_make_list.append(b)"
   ]
  },
  {
   "cell_type": "code",
   "execution_count": 27,
   "id": "ca890e84",
   "metadata": {},
   "outputs": [],
   "source": [
    "unique_make_comb = [] # this provides all the combinations of elements within unique_make_list with the length equal to 2\n",
    "for m in itertools.combinations(unique_make_list,2):\n",
    "    unique_make_comb.append(m)"
   ]
  },
  {
   "cell_type": "code",
   "execution_count": 28,
   "id": "8343bdb7",
   "metadata": {},
   "outputs": [],
   "source": [
    "# let's group the data frame with columns make and price based on the column make\n",
    "df_make_price = df[['make','price']]\n",
    "df_make_price_gr = df_make_price.groupby('make')"
   ]
  },
  {
   "cell_type": "code",
   "execution_count": 29,
   "id": "89fa8d70",
   "metadata": {},
   "outputs": [],
   "source": [
    "def ANOVA(x,y): # this extracts prices of unique categories (e.g., mazda) within the column \"make\"\n",
    "    return df_make_price_gr.get_group(unique_make_comb[x][y])['price']"
   ]
  },
  {
   "cell_type": "code",
   "execution_count": 30,
   "id": "137cb27f",
   "metadata": {},
   "outputs": [
    {
     "data": {
      "text/html": [
       "<div>\n",
       "<style scoped>\n",
       "    .dataframe tbody tr th:only-of-type {\n",
       "        vertical-align: middle;\n",
       "    }\n",
       "\n",
       "    .dataframe tbody tr th {\n",
       "        vertical-align: top;\n",
       "    }\n",
       "\n",
       "    .dataframe thead th {\n",
       "        text-align: right;\n",
       "    }\n",
       "</style>\n",
       "<table border=\"1\" class=\"dataframe\">\n",
       "  <thead>\n",
       "    <tr style=\"text-align: right;\">\n",
       "      <th></th>\n",
       "      <th>F-test-score</th>\n",
       "      <th>p-value</th>\n",
       "    </tr>\n",
       "  </thead>\n",
       "  <tbody>\n",
       "    <tr>\n",
       "      <th>(alfa-romero, audi)</th>\n",
       "      <td>0.574333</td>\n",
       "      <td>0.470275</td>\n",
       "    </tr>\n",
       "    <tr>\n",
       "      <th>(alfa-romero, bmw)</th>\n",
       "      <td>3.650348</td>\n",
       "      <td>0.088378</td>\n",
       "    </tr>\n",
       "    <tr>\n",
       "      <th>(alfa-romero, chevrolet)</th>\n",
       "      <td>75.508276</td>\n",
       "      <td>0.000966</td>\n",
       "    </tr>\n",
       "    <tr>\n",
       "      <th>(alfa-romero, dodge)</th>\n",
       "      <td>28.917573</td>\n",
       "      <td>0.000311</td>\n",
       "    </tr>\n",
       "    <tr>\n",
       "      <th>(alfa-romero, honda)</th>\n",
       "      <td>32.008671</td>\n",
       "      <td>0.000059</td>\n",
       "    </tr>\n",
       "    <tr>\n",
       "      <th>(alfa-romero, isuzu)</th>\n",
       "      <td>5.033665</td>\n",
       "      <td>0.074877</td>\n",
       "    </tr>\n",
       "    <tr>\n",
       "      <th>(alfa-romero, jaguar)</th>\n",
       "      <td>151.977750</td>\n",
       "      <td>0.000249</td>\n",
       "    </tr>\n",
       "    <tr>\n",
       "      <th>(alfa-romero, mazda)</th>\n",
       "      <td>4.162180</td>\n",
       "      <td>0.056287</td>\n",
       "    </tr>\n",
       "    <tr>\n",
       "      <th>(alfa-romero, mercedes-benz)</th>\n",
       "      <td>19.676220</td>\n",
       "      <td>0.001633</td>\n",
       "    </tr>\n",
       "    <tr>\n",
       "      <th>(alfa-romero, mercury)</th>\n",
       "      <td>0.251500</td>\n",
       "      <td>0.665780</td>\n",
       "    </tr>\n",
       "    <tr>\n",
       "      <th>(alfa-romero, mitsubishi)</th>\n",
       "      <td>11.411004</td>\n",
       "      <td>0.004506</td>\n",
       "    </tr>\n",
       "    <tr>\n",
       "      <th>(alfa-romero, nissan)</th>\n",
       "      <td>3.639210</td>\n",
       "      <td>0.071664</td>\n",
       "    </tr>\n",
       "    <tr>\n",
       "      <th>(alfa-romero, peugot)</th>\n",
       "      <td>0.000043</td>\n",
       "      <td>0.994890</td>\n",
       "    </tr>\n",
       "    <tr>\n",
       "      <th>(alfa-romero, plymouth)</th>\n",
       "      <td>23.579080</td>\n",
       "      <td>0.001262</td>\n",
       "    </tr>\n",
       "    <tr>\n",
       "      <th>(alfa-romero, porsche)</th>\n",
       "      <td>4.243665</td>\n",
       "      <td>0.085055</td>\n",
       "    </tr>\n",
       "    <tr>\n",
       "      <th>(alfa-romero, renault)</th>\n",
       "      <td>20.235049</td>\n",
       "      <td>0.020511</td>\n",
       "    </tr>\n",
       "    <tr>\n",
       "      <th>(alfa-romero, saab)</th>\n",
       "      <td>0.022555</td>\n",
       "      <td>0.884856</td>\n",
       "    </tr>\n",
       "    <tr>\n",
       "      <th>(alfa-romero, subaru)</th>\n",
       "      <td>31.840225</td>\n",
       "      <td>0.000080</td>\n",
       "    </tr>\n",
       "    <tr>\n",
       "      <th>(alfa-romero, toyota)</th>\n",
       "      <td>8.787924</td>\n",
       "      <td>0.005595</td>\n",
       "    </tr>\n",
       "    <tr>\n",
       "      <th>(alfa-romero, volkswagen)</th>\n",
       "      <td>15.745741</td>\n",
       "      <td>0.001606</td>\n",
       "    </tr>\n",
       "    <tr>\n",
       "      <th>(alfa-romero, volvo)</th>\n",
       "      <td>1.605640</td>\n",
       "      <td>0.229145</td>\n",
       "    </tr>\n",
       "    <tr>\n",
       "      <th>(audi, bmw)</th>\n",
       "      <td>5.693579</td>\n",
       "      <td>0.032929</td>\n",
       "    </tr>\n",
       "  </tbody>\n",
       "</table>\n",
       "</div>"
      ],
      "text/plain": [
       "                              F-test-score   p-value\n",
       "(alfa-romero, audi)               0.574333  0.470275\n",
       "(alfa-romero, bmw)                3.650348  0.088378\n",
       "(alfa-romero, chevrolet)         75.508276  0.000966\n",
       "(alfa-romero, dodge)             28.917573  0.000311\n",
       "(alfa-romero, honda)             32.008671  0.000059\n",
       "(alfa-romero, isuzu)              5.033665  0.074877\n",
       "(alfa-romero, jaguar)           151.977750  0.000249\n",
       "(alfa-romero, mazda)              4.162180  0.056287\n",
       "(alfa-romero, mercedes-benz)     19.676220  0.001633\n",
       "(alfa-romero, mercury)            0.251500  0.665780\n",
       "(alfa-romero, mitsubishi)        11.411004  0.004506\n",
       "(alfa-romero, nissan)             3.639210  0.071664\n",
       "(alfa-romero, peugot)             0.000043  0.994890\n",
       "(alfa-romero, plymouth)          23.579080  0.001262\n",
       "(alfa-romero, porsche)            4.243665  0.085055\n",
       "(alfa-romero, renault)           20.235049  0.020511\n",
       "(alfa-romero, saab)               0.022555  0.884856\n",
       "(alfa-romero, subaru)            31.840225  0.000080\n",
       "(alfa-romero, toyota)             8.787924  0.005595\n",
       "(alfa-romero, volkswagen)        15.745741  0.001606\n",
       "(alfa-romero, volvo)              1.605640  0.229145\n",
       "(audi, bmw)                       5.693579  0.032929"
      ]
     },
     "execution_count": 30,
     "metadata": {},
     "output_type": "execute_result"
    }
   ],
   "source": [
    "# Let's analyze the variance of every two unique make categories\n",
    "ANOVA_values=[]\n",
    "ANOVA_colname=[]\n",
    "for c in range(len(unique_make_list)):\n",
    "    ANOVA_colname.append(unique_make_comb[c])\n",
    "    ANOVA_values.append(scipy.stats.f_oneway(ANOVA(c,0),ANOVA(c,1))[0:2]) \n",
    "df_ANOVA= pd.DataFrame(ANOVA_values,ANOVA_colname)\n",
    "df_ANOVA.columns=['F-test-score','p-value']\n",
    "df_ANOVA"
   ]
  },
  {
   "cell_type": "markdown",
   "id": "56e9f124",
   "metadata": {},
   "source": [
    "**Discussion**: The first columns shows the F-test-score displaying how much difference there is between the means of different categories of auto make. The second columns shows the p-value indicating how statistically significant the F-test-score is. If the price is strongly correlated with the feature variable make, then we expect to see high f-score and low p-value. For instance, the price of BMW and Audi cars are similar as both are from German companies and both are fairly expensive. As such, the F-score is expected to be small and p-value is expected to be quite large for a BMW and Audi. The data frame above confirms this expectation (F-score=5.69, p-value=0.033)."
   ]
  },
  {
   "cell_type": "code",
   "execution_count": 31,
   "id": "3e4159cd",
   "metadata": {},
   "outputs": [
    {
     "data": {
      "text/html": [
       "<div>\n",
       "<style scoped>\n",
       "    .dataframe tbody tr th:only-of-type {\n",
       "        vertical-align: middle;\n",
       "    }\n",
       "\n",
       "    .dataframe tbody tr th {\n",
       "        vertical-align: top;\n",
       "    }\n",
       "\n",
       "    .dataframe thead th {\n",
       "        text-align: right;\n",
       "    }\n",
       "</style>\n",
       "<table border=\"1\" class=\"dataframe\">\n",
       "  <thead>\n",
       "    <tr style=\"text-align: right;\">\n",
       "      <th></th>\n",
       "      <th>F-test-score</th>\n",
       "      <th>p-value</th>\n",
       "    </tr>\n",
       "  </thead>\n",
       "  <tbody>\n",
       "    <tr>\n",
       "      <th>(alfa-romero, chevrolet)</th>\n",
       "      <td>75.508276</td>\n",
       "      <td>0.000966</td>\n",
       "    </tr>\n",
       "    <tr>\n",
       "      <th>(alfa-romero, dodge)</th>\n",
       "      <td>28.917573</td>\n",
       "      <td>0.000311</td>\n",
       "    </tr>\n",
       "    <tr>\n",
       "      <th>(alfa-romero, honda)</th>\n",
       "      <td>32.008671</td>\n",
       "      <td>0.000059</td>\n",
       "    </tr>\n",
       "    <tr>\n",
       "      <th>(alfa-romero, jaguar)</th>\n",
       "      <td>151.977750</td>\n",
       "      <td>0.000249</td>\n",
       "    </tr>\n",
       "    <tr>\n",
       "      <th>(alfa-romero, subaru)</th>\n",
       "      <td>31.840225</td>\n",
       "      <td>0.000080</td>\n",
       "    </tr>\n",
       "  </tbody>\n",
       "</table>\n",
       "</div>"
      ],
      "text/plain": [
       "                          F-test-score   p-value\n",
       "(alfa-romero, chevrolet)     75.508276  0.000966\n",
       "(alfa-romero, dodge)         28.917573  0.000311\n",
       "(alfa-romero, honda)         32.008671  0.000059\n",
       "(alfa-romero, jaguar)       151.977750  0.000249\n",
       "(alfa-romero, subaru)        31.840225  0.000080"
      ]
     },
     "execution_count": 31,
     "metadata": {},
     "output_type": "execute_result"
    }
   ],
   "source": [
    "# filtering all the combincations with p-value smaller than 0.001\n",
    "df_ANOVA[df_ANOVA['p-value']<0.001]"
   ]
  },
  {
   "cell_type": "markdown",
   "id": "cb7c4ff7",
   "metadata": {},
   "source": [
    "**Discussion**: The above data frame shows the categories of car types with p-values less than 0.001. For instance Mazda and Mercedes-benz have very small p-values and high f-scores which make sense as benz cars are very expensive and Maza cars are quite inexpensive. The box plot below shows the mean price values of mazda versus benz auto make."
   ]
  },
  {
   "cell_type": "code",
   "execution_count": 32,
   "id": "d904ad95",
   "metadata": {},
   "outputs": [
    {
     "data": {
      "text/plain": [
       "<AxesSubplot:title={'center':'Price distribution of mazda versus mercedes-benz cars'}, xlabel='make', ylabel='price'>"
      ]
     },
     "execution_count": 32,
     "metadata": {},
     "output_type": "execute_result"
    },
    {
     "data": {
      "image/png": "[encoded data removed]",
      "text/plain": [
       "<Figure size 432x288 with 1 Axes>"
      ]
     },
     "metadata": {
      "needs_background": "light"
     },
     "output_type": "display_data"
    }
   ],
   "source": [
    "%%capture --no-display \n",
    "df_limit=df.iloc[60:75,:]\n",
    "plt.title('Price distribution of mazda versus mercedes-benz cars')\n",
    "sns.boxenplot(df_limit['make'],df_limit['price'])"
   ]
  },
  {
   "cell_type": "markdown",
   "id": "be245b90",
   "metadata": {},
   "source": [
    "**Discussion**: The box plot above shows the significantly different mean values for the price of Mazda cars versus Benz cars which cofirms the very small p-value presented above."
   ]
  },
  {
   "cell_type": "markdown",
   "id": "ccb00477",
   "metadata": {},
   "source": [
    "Now, let's check the **association** between variables to predict price using Chi square."
   ]
  },
  {
   "cell_type": "code",
   "execution_count": 33,
   "id": "2a2b96fe",
   "metadata": {},
   "outputs": [],
   "source": [
    "def chi_square(var1,var2):    \n",
    "    df_price_make = df[[var1,var2,'price']]\n",
    "    df_price_make_gr = df_price_make.groupby([var1,var2],as_index=False).mean()\n",
    "    df_price_make_pivot = df_price_make_gr.pivot(index=var1,columns=var2)\n",
    "    df_price_make_pivot.fillna(0,inplace=True)\n",
    "    chi_square = scipy.stats.chi2_contingency(df_price_make_pivot,correction=True)\n",
    "    return chi_square[0:3]"
   ]
  },
  {
   "cell_type": "code",
   "execution_count": 34,
   "id": "a9f6e78b",
   "metadata": {},
   "outputs": [],
   "source": [
    "col_obj=[] # this list collects all the columns with object data type\n",
    "for d in df.columns:\n",
    "    if df[d].dtype=='object':\n",
    "        col_obj.append(d)"
   ]
  },
  {
   "cell_type": "code",
   "execution_count": 35,
   "id": "cf4301a7",
   "metadata": {},
   "outputs": [],
   "source": [
    "col_obj_comb = [] # this list provides all the combinations of elements within col_obj list with the length equal to 2\n",
    "for k in itertools.combinations(col_obj,2):\n",
    "    col_obj_comb.append(k)"
   ]
  },
  {
   "cell_type": "code",
   "execution_count": 36,
   "id": "6078b90b",
   "metadata": {},
   "outputs": [
    {
     "name": "stdout",
     "output_type": "stream",
     "text": [
      "('make', 'fuel-type') (147215.58979607973, 0.0, 21)\n",
      "('make', 'aspiration') (160469.50132348516, 0.0, 21)\n",
      "('make', 'num-of-doors') (94434.61754396914, 0.0, 21)\n",
      "('make', 'body-style') (759904.188260034, 0.0, 84)\n",
      "('make', 'drive-wheels') (444961.6142674795, 0.0, 42)\n",
      "('make', 'engine-location') (221483.97554222212, 0.0, 21)\n",
      "('make', 'engine-type') (1622680.2512554568, 0.0, 126)\n",
      "('make', 'num-of-cylinders') (1567580.0907568969, 0.0, 126)\n",
      "('make', 'fuel-system') (1490366.9111146408, 0.0, 147)\n",
      "('fuel-type', 'aspiration') (988.7794997522026, 4.934145320291949e-217, 1)\n",
      "('fuel-type', 'num-of-doors') (43.18101780588942, 4.9902478409148475e-11, 1)\n",
      "('fuel-type', 'body-style') (24964.396519668997, 0.0, 4)\n",
      "('fuel-type', 'drive-wheels') (9692.28436059937, 0.0, 2)\n",
      "('fuel-type', 'engine-location') (25724.157926953172, 0.0, 1)\n",
      "('fuel-type', 'engine-type') (60403.43008971685, 0.0, 6)\n",
      "('fuel-type', 'num-of-cylinders') (72602.66461179515, 0.0, 6)\n",
      "('fuel-type', 'fuel-system') (95660.87706743521, 0.0, 7)\n",
      "('aspiration', 'num-of-doors') (206.5598508335272, 7.73459812532171e-47, 1)\n",
      "('aspiration', 'body-style') (25498.351135383244, 0.0, 4)\n",
      "('aspiration', 'drive-wheels') (385.4939607548922, 1.9545645539067377e-84, 2)\n",
      "('aspiration', 'engine-location') (26538.913107758955, 0.0, 1)\n",
      "('aspiration', 'engine-type') (25763.435703575837, 0.0, 6)\n",
      "('aspiration', 'num-of-cylinders') (71193.94710308292, 0.0, 6)\n",
      "('aspiration', 'fuel-system') (53633.4223104009, 0.0, 7)\n",
      "('num-of-doors', 'body-style') (51275.601996543446, 0.0, 4)\n",
      "('num-of-doors', 'drive-wheels') (35.90680495299489, 1.5956453578177817e-08, 2)\n",
      "('num-of-doors', 'engine-location') (23579.024788464387, 0.0, 1)\n",
      "('num-of-doors', 'engine-type') (36865.33552357034, 0.0, 6)\n",
      "('num-of-doors', 'num-of-cylinders') (48301.75427498894, 0.0, 6)\n",
      "('num-of-doors', 'fuel-system') (30300.018614820212, 0.0, 7)\n",
      "('body-style', 'drive-wheels') (25190.008918204763, 0.0, 8)\n",
      "('body-style', 'engine-location') (46893.06199567323, 0.0, 4)\n",
      "('body-style', 'engine-type') (224747.83830256553, 0.0, 24)\n",
      "('body-style', 'num-of-cylinders') (272222.5556735017, 0.0, 24)\n",
      "('body-style', 'fuel-system') (184031.85086267817, 0.0, 28)\n",
      "('drive-wheels', 'engine-location') (24167.618626591626, 0.0, 2)\n",
      "('drive-wheels', 'engine-type') (60018.10888391436, 0.0, 12)\n",
      "('drive-wheels', 'num-of-cylinders') (95818.29455927393, 0.0, 12)\n",
      "('drive-wheels', 'fuel-system') (89871.6971329473, 0.0, 14)\n",
      "('engine-location', 'engine-type') (102109.2331211948, 0.0, 6)\n",
      "('engine-location', 'num-of-cylinders') (90581.27842617768, 0.0, 6)\n",
      "('engine-location', 'fuel-system') (71447.72435182755, 0.0, 7)\n",
      "('engine-type', 'num-of-cylinders') (710627.7796329695, 0.0, 36)\n",
      "('engine-type', 'fuel-system') (269421.71273763815, 0.0, 42)\n",
      "('num-of-cylinders', 'fuel-system') (448732.2851236536, 0.0, 42)\n"
     ]
    }
   ],
   "source": [
    "# let's analyze the association (i.e., chi-square and p-value) between differnt object type features using chi-square method\n",
    "for f in range(len(col_obj_comb)):\n",
    "    print(col_obj_comb[f],chi_square(col_obj_comb[f][0],col_obj_comb[f][1]))"
   ]
  },
  {
   "cell_type": "markdown",
   "id": "2821e5f1",
   "metadata": {},
   "source": [
    "**Discussion**: The chi square values above indicate for all combination of object type feature variables reject the null hypothesis (i.e., p-value is smaller than 0.001)."
   ]
  },
  {
   "cell_type": "markdown",
   "id": "81e441f4",
   "metadata": {},
   "source": [
    "## Predictive Analysis"
   ]
  },
  {
   "cell_type": "markdown",
   "id": "9baa7e18",
   "metadata": {},
   "source": [
    "Let's find the independet variables with correlation coefficients more than 0.5"
   ]
  },
  {
   "cell_type": "code",
   "execution_count": 360,
   "id": "7d548b95",
   "metadata": {},
   "outputs": [
    {
     "name": "stdout",
     "output_type": "stream",
     "text": [
      "['wheel-base', 'length', 'width', 'curb-weight', 'engine-size', 'bore', 'horsepower']\n"
     ]
    }
   ],
   "source": [
    "df_cor = df.corr().loc['price'].to_frame()\n",
    "cor_list = df_cor[df_cor['price']>0.5].index.to_list()\n",
    "cor_list.remove('price')\n",
    "print(cor_list) # list of features with correlation variable more than 0.5"
   ]
  },
  {
   "cell_type": "markdown",
   "id": "a9ae2f48",
   "metadata": {},
   "source": [
    "### Simple linear regression"
   ]
  },
  {
   "cell_type": "code",
   "execution_count": 361,
   "id": "78e13731",
   "metadata": {},
   "outputs": [
    {
     "data": {
      "text/html": [
       "<div>\n",
       "<style scoped>\n",
       "    .dataframe tbody tr th:only-of-type {\n",
       "        vertical-align: middle;\n",
       "    }\n",
       "\n",
       "    .dataframe tbody tr th {\n",
       "        vertical-align: top;\n",
       "    }\n",
       "\n",
       "    .dataframe thead th {\n",
       "        text-align: right;\n",
       "    }\n",
       "</style>\n",
       "<table border=\"1\" class=\"dataframe\">\n",
       "  <thead>\n",
       "    <tr style=\"text-align: right;\">\n",
       "      <th></th>\n",
       "      <th>price</th>\n",
       "    </tr>\n",
       "  </thead>\n",
       "  <tbody>\n",
       "    <tr>\n",
       "      <th>curb-weight</th>\n",
       "      <td>0.820825</td>\n",
       "    </tr>\n",
       "    <tr>\n",
       "      <th>engine-size</th>\n",
       "      <td>0.861752</td>\n",
       "    </tr>\n",
       "    <tr>\n",
       "      <th>price</th>\n",
       "      <td>1.000000</td>\n",
       "    </tr>\n",
       "  </tbody>\n",
       "</table>\n",
       "</div>"
      ],
      "text/plain": [
       "                price\n",
       "curb-weight  0.820825\n",
       "engine-size  0.861752\n",
       "price        1.000000"
      ]
     },
     "execution_count": 361,
     "metadata": {},
     "output_type": "execute_result"
    }
   ],
   "source": [
    "# first let's build a linear model using only one independent variables with highest correlation coefficient.\n",
    "df_cor[df_cor['price']>0.5].sort_values(by='price').tail(3)"
   ]
  },
  {
   "cell_type": "markdown",
   "id": "f6a5bac5",
   "metadata": {},
   "source": [
    "**Discussion**: As shown above engine-size has the highest correlation coefficient. Now let's built the simple linear regression model for this variable."
   ]
  },
  {
   "cell_type": "markdown",
   "id": "231cb147",
   "metadata": {},
   "source": [
    "#### Building the model"
   ]
  },
  {
   "cell_type": "code",
   "execution_count": 407,
   "id": "2aeab3fa",
   "metadata": {},
   "outputs": [
    {
     "name": "stdout",
     "output_type": "stream",
     "text": [
      "price(hat) = -7457.948 + 162.836 * engine-size\n"
     ]
    }
   ],
   "source": [
    "lm=LinearRegression() # creating a linear regression object\n",
    "y=df['price']\n",
    "lm.fit(df[['engine-size']],y) # train the model\n",
    "intercept=lm.intercept_\n",
    "coeff=lm.coef_\n",
    "print(f'price(hat) = {round(intercept,3)} + {round(coeff[0],3)} * engine-size')"
   ]
  },
  {
   "cell_type": "markdown",
   "id": "06f99294",
   "metadata": {},
   "source": [
    "#### Plotting the linear regression model using seaborn.regplot"
   ]
  },
  {
   "cell_type": "code",
   "execution_count": 155,
   "id": "b645c0b6",
   "metadata": {},
   "outputs": [
    {
     "data": {
      "text/plain": [
       "Text(0.5, 1.0, 'Simple linear regression model')"
      ]
     },
     "execution_count": 155,
     "metadata": {},
     "output_type": "execute_result"
    },
    {
     "data": {
      "image/png": "[encoded data removed]",
      "text/plain": [
       "<Figure size 432x288 with 1 Axes>"
      ]
     },
     "metadata": {
      "needs_background": "light"
     },
     "output_type": "display_data"
    }
   ],
   "source": [
    "%%capture --no-display \n",
    "# let's plot the regression model above\n",
    "sns.regplot(df[['engine-size']],y)\n",
    "plt.title('Simple linear regression model')"
   ]
  },
  {
   "cell_type": "markdown",
   "id": "7e14a294",
   "metadata": {},
   "source": [
    "#### Ploting the residual values - an approach to visualize data variance"
   ]
  },
  {
   "cell_type": "code",
   "execution_count": 363,
   "id": "a72e8976",
   "metadata": {},
   "outputs": [
    {
     "data": {
      "text/plain": [
       "Text(0.5, 1.0, 'Residual  values of the simple regression model')"
      ]
     },
     "execution_count": 363,
     "metadata": {},
     "output_type": "execute_result"
    },
    {
     "data": {
      "image/png": "[encoded data removed]",
      "text/plain": [
       "<Figure size 432x288 with 1 Axes>"
      ]
     },
     "metadata": {
      "needs_background": "light"
     },
     "output_type": "display_data"
    }
   ],
   "source": [
    "%%capture --no-display \n",
    "sns.residplot(df[['engine-size']],y,color='green')\n",
    "plt.title('Residual  values of the simple regression model')"
   ]
  },
  {
   "cell_type": "markdown",
   "id": "3c005041",
   "metadata": {},
   "source": [
    "**Discussion**: The distribution of residual values are symmetrical with respect to 0 axis. As such, the linear regression assumption is correct and the predictive regression model could be employed to estimate the price value."
   ]
  },
  {
   "cell_type": "markdown",
   "id": "15a5c1eb",
   "metadata": {},
   "source": [
    "#### Plotting the distribution line for the simple regression model built above"
   ]
  },
  {
   "cell_type": "code",
   "execution_count": 364,
   "id": "a83613fd",
   "metadata": {},
   "outputs": [
    {
     "data": {
      "text/plain": [
       "<matplotlib.legend.Legend at 0x17944a10070>"
      ]
     },
     "execution_count": 364,
     "metadata": {},
     "output_type": "execute_result"
    },
    {
     "data": {
      "image/png": "[encoded data removed]",
      "text/plain": [
       "<Figure size 432x288 with 1 Axes>"
      ]
     },
     "metadata": {
      "needs_background": "light"
     },
     "output_type": "display_data"
    }
   ],
   "source": [
    "%%capture --no-display \n",
    "yhat_lr=lm.predict(df[['engine-size']])\n",
    "ax1 = sns.distplot(y, hist=False,color='r',label=\"actual value\")\n",
    "sns.distplot(yhat_lr, hist=False,color='blue',label=\"predicted value\",ax=ax1)\n",
    "plt.title('Distribution plot')\n",
    "plt.legend() "
   ]
  },
  {
   "cell_type": "markdown",
   "id": "f0d21254",
   "metadata": {},
   "source": [
    "**Discussion**: The distribution plot above shows the predictive model provides good estimation all along the price range. However it could be improved. Let's check if we can improve the accuracy using all the independent variables with the correlation coefficients more than 0.5."
   ]
  },
  {
   "cell_type": "markdown",
   "id": "addb3129",
   "metadata": {},
   "source": [
    "### Multi-linear regression model"
   ]
  },
  {
   "cell_type": "markdown",
   "id": "4f3bafbf",
   "metadata": {},
   "source": [
    "#### Building a model with 7 independent variables with correlation coefficients more than 0.5"
   ]
  },
  {
   "cell_type": "code",
   "execution_count": 368,
   "id": "8da78aae",
   "metadata": {},
   "outputs": [
    {
     "name": "stdout",
     "output_type": "stream",
     "text": [
      "price(hat) = -16821.181+(86.62*wheel-base)+(-6.686*length)+\n",
      "      (179.498*width)+(1632.775*curb-weight)+(97.171*engine-size)+\n",
      "      (-1491.431*bore)+(33.012*horsepower)\n"
     ]
    }
   ],
   "source": [
    "lm.fit(df[cor_list],y) # cor_list includes all the columns names that their correlation coefficients with price is more than 0.5\n",
    "intercept_multi=lm.intercept_\n",
    "coeff_multi=lm.coef_\n",
    "print(f\"\"\"price(hat) = {round(intercept_multi,3)}+({round(coeff_multi[0],3)}*{cor_list[0]})+({round(coeff_multi[1],3)}*{cor_list[1]})+\n",
    "      ({round(coeff_multi[2],3)}*{cor_list[2]})+({round(coeff_multi[3],3)}*{cor_list[3]})+({round(coeff_multi[4],3)}*{cor_list[4]})+\n",
    "      ({round(coeff_multi[5],3)}*{cor_list[5]})+({round(coeff_multi[6],3)}*{cor_list[6]})\"\"\")"
   ]
  },
  {
   "cell_type": "markdown",
   "id": "3de0c714",
   "metadata": {},
   "source": [
    "#### Displaying the distribution plot and comparing it with the plot from the simple regression model"
   ]
  },
  {
   "cell_type": "code",
   "execution_count": 369,
   "id": "453c415b",
   "metadata": {},
   "outputs": [
    {
     "data": {
      "text/plain": [
       "<matplotlib.legend.Legend at 0x17944a684c0>"
      ]
     },
     "execution_count": 369,
     "metadata": {},
     "output_type": "execute_result"
    },
    {
     "data": {
      "image/png": "[encoded data removed]",
      "text/plain": [
       "<Figure size 432x288 with 1 Axes>"
      ]
     },
     "metadata": {
      "needs_background": "light"
     },
     "output_type": "display_data"
    }
   ],
   "source": [
    "%%capture --no-display \n",
    "yhat_mlr = lm.predict(df[cor_list])\n",
    "ax1 = sns.distplot(y, hist=False,color='r',label=\"actual value\")\n",
    "sns.distplot(yhat_mlr, hist=False,color='blue',label=\"predicted value\",ax=ax1)\n",
    "plt.title('Distribution plot')\n",
    "plt.legend() "
   ]
  },
  {
   "cell_type": "markdown",
   "id": "f31c2870",
   "metadata": {},
   "source": [
    "**Discussion**: In the distribution plot above the accuracy of the predictive model enhances by increasing the number of independent variables from 1 to 7. The enhancement occurs mainly around price range of 10000. Now let's examine the accuracy of the predictive model using polynomial regression."
   ]
  },
  {
   "cell_type": "markdown",
   "id": "60c398b7",
   "metadata": {},
   "source": [
    "### Polynomial regression model - 1 dimension"
   ]
  },
  {
   "cell_type": "markdown",
   "id": "523ca0be",
   "metadata": {},
   "source": [
    "#### Building the model"
   ]
  },
  {
   "cell_type": "code",
   "execution_count": 422,
   "id": "0fe5708d",
   "metadata": {},
   "outputs": [
    {
     "name": "stdout",
     "output_type": "stream",
     "text": [
      "           3         2\n",
      "-0.006025 x + 3.334 x - 391 x + 2.05e+04\n"
     ]
    }
   ],
   "source": [
    "# 1 dimension polynomial regression\n",
    "degree = 3\n",
    "independent_var = 'engine-size' \n",
    "f = np.polyfit(df[independent_var],y,degree) # training the polynomial model and extracting the coefficients\n",
    "p = np.poly1d(f) # converting the coefficients in f in to a polynomial equation\n",
    "print(p) # this prints the polynomial equation"
   ]
  },
  {
   "cell_type": "markdown",
   "id": "84890fbd",
   "metadata": {},
   "source": [
    "#### Plotting the polynomial regression model"
   ]
  },
  {
   "cell_type": "code",
   "execution_count": 356,
   "id": "daa49f08",
   "metadata": {},
   "outputs": [
    {
     "data": {
      "text/plain": [
       "Text(0.5, 1.0, 'Polynomial regression model')"
      ]
     },
     "execution_count": 356,
     "metadata": {},
     "output_type": "execute_result"
    },
    {
     "data": {
      "image/png": "[encoded data removed]",
      "text/plain": [
       "<Figure size 432x288 with 1 Axes>"
      ]
     },
     "metadata": {
      "needs_background": "light"
     },
     "output_type": "display_data"
    }
   ],
   "source": [
    "%%capture --no-display \n",
    "x_data = df[independent_var].to_numpy()\n",
    "yhat_p = p(x_data) # applying the polynomial equation to the elements in x_data\n",
    "sns.lineplot(x_data, yhat_p)\n",
    "sns.scatterplot(df[independent_var], y,color='red')\n",
    "plt.title('Polynomial regression model')"
   ]
  },
  {
   "cell_type": "markdown",
   "id": "5ab863ae",
   "metadata": {},
   "source": [
    "#### Displaying the distribution plot "
   ]
  },
  {
   "cell_type": "code",
   "execution_count": 357,
   "id": "6eb4f542",
   "metadata": {},
   "outputs": [
    {
     "data": {
      "text/plain": [
       "<matplotlib.legend.Legend at 0x17944826610>"
      ]
     },
     "execution_count": 357,
     "metadata": {},
     "output_type": "execute_result"
    },
    {
     "data": {
      "image/png": "[encoded data removed]",
      "text/plain": [
       "<Figure size 432x288 with 1 Axes>"
      ]
     },
     "metadata": {
      "needs_background": "light"
     },
     "output_type": "display_data"
    }
   ],
   "source": [
    "%%capture --no-display \n",
    "ax1 = sns.distplot(y, hist=False,color='r',label=\"actual value\")\n",
    "sns.distplot(yhat_p, hist=False,color='blue',label=\"predicted value\",ax=ax1)\n",
    "plt.title('Distribution plot')\n",
    "plt.legend() "
   ]
  },
  {
   "cell_type": "markdown",
   "id": "478c81ea",
   "metadata": {},
   "source": [
    "**Discussion**: The polynomial equation with degree 3 seems to pass through more points compared to linear regression. Accordingly, the distribution plot shows an improvement in the predicted values from price range 20 to 50k. However, the accuracy of the price prediction around the price with highest density (around 10k) has decreased."
   ]
  },
  {
   "cell_type": "markdown",
   "id": "bf982cc1",
   "metadata": {},
   "source": [
    "### Polynomial regression model - multi-dimension\n",
    "#### Building a pipeline"
   ]
  },
  {
   "cell_type": "code",
   "execution_count": 392,
   "id": "eb5ea31d",
   "metadata": {},
   "outputs": [
    {
     "data": {
      "text/plain": [
       "<matplotlib.legend.Legend at 0x17944c13be0>"
      ]
     },
     "execution_count": 392,
     "metadata": {},
     "output_type": "execute_result"
    },
    {
     "data": {
      "image/png": "[encoded data removed]",
      "text/plain": [
       "<Figure size 432x288 with 1 Axes>"
      ]
     },
     "metadata": {
      "needs_background": "light"
     },
     "output_type": "display_data"
    }
   ],
   "source": [
    "%%capture --no-display \n",
    "input=[('polynomial',PolynomialFeatures(degree=3,include_bias=False)),('model',LinearRegression())]\n",
    "pipe=Pipeline(input)\n",
    "pipe.fit(df[cor_list],y)\n",
    "yhat_mp=pipe.predict(df[cor_list])\n",
    "ax1 = sns.distplot(y, hist=False,color='r',label=\"actual value\")\n",
    "sns.distplot(yhat_mp, hist=False,color='blue',label=\"predicted value\",ax=ax1)\n",
    "plt.legend() "
   ]
  },
  {
   "cell_type": "markdown",
   "id": "30566512",
   "metadata": {},
   "source": [
    "**Discussion**: The polynomial equation with multiple feature variables provides prediction (y_hat) which is in an excellent agreement with the values of the dependent variable."
   ]
  },
  {
   "cell_type": "markdown",
   "id": "93b892cb",
   "metadata": {},
   "source": [
    "## Model evaluation\n",
    "Let's evaluate the regression model developed above using **mean square error (MSE)** and **R square (also known as the coefficient of determination**."
   ]
  },
  {
   "cell_type": "markdown",
   "id": "e9cfbd85",
   "metadata": {},
   "source": [
    "#### Mean Square Error (MSE)"
   ]
  },
  {
   "cell_type": "code",
   "execution_count": 393,
   "id": "eeee81bb",
   "metadata": {},
   "outputs": [
    {
     "name": "stdout",
     "output_type": "stream",
     "text": [
      "The mean squre error/10000 for \n",
      "smse_lr : 1585.878\n",
      "mse_mlr : 1361.923\n",
      "mse_p : 1434.181\n",
      "mse_mp : 86.531\n"
     ]
    }
   ],
   "source": [
    "mse_lr = mse(yhat_lr,y) # mean squre error for simple regression model\n",
    "mse_mlr = mse(yhat_mlr,y) # mean squre error for multi-linear regression model\n",
    "mse_p = mse(yhat_p,y) # mean squre error for polynomial regression model\n",
    "mse_mp = mse(yhat_mp,y) # mean squre error for polynomial regression model with multiple independent variables\n",
    "\n",
    "print(f\"\"\"The mean squre error/10000 for \n",
    "smse_lr : {round(mse_lr/10000,3)}\n",
    "mse_mlr : {round(mse_mlr/10000,3)}\n",
    "mse_p : {round(mse_p/10000,3)}\n",
    "mse_mp : {round(mse_mp/10000,3)}\"\"\")"
   ]
  },
  {
   "cell_type": "markdown",
   "id": "7e2433b7",
   "metadata": {},
   "source": [
    "**Discussion**: The comparison of MSE for 4 regression models indicates that using the polynomial model with multiple features leads to a significantly less error. Also, multiple linear regression performs better than simple regression model. Finally, the 1 dimension polynomial regression model provides the highest MSE."
   ]
  },
  {
   "cell_type": "markdown",
   "id": "d725d8d4",
   "metadata": {},
   "source": [
    "#### R square (also known as the coefficient of determination"
   ]
  },
  {
   "cell_type": "code",
   "execution_count": 441,
   "id": "c856fa9b",
   "metadata": {},
   "outputs": [
    {
     "data": {
      "text/plain": [
       "0.7426169294978071"
      ]
     },
     "execution_count": 441,
     "metadata": {},
     "output_type": "execute_result"
    }
   ],
   "source": [
    "lm=LinearRegression()\n",
    "lm.fit(df[['engine-size']],df['price'])\n",
    "lm_score_lr= lm.score(df[['engine-size']],df['price']) # R squre for simple regression model\n",
    "lm_score_lr"
   ]
  },
  {
   "cell_type": "code",
   "execution_count": 442,
   "id": "e052154a",
   "metadata": {},
   "outputs": [
    {
     "data": {
      "text/plain": [
       "0.7789641029786432"
      ]
     },
     "execution_count": 442,
     "metadata": {},
     "output_type": "execute_result"
    }
   ],
   "source": [
    "lm.fit(df[cor_list],df['price'])\n",
    "lm_score_mlr = lm.score(df[cor_list],df['price']) # R squre for simple regression model\n",
    "lm_score_mlr"
   ]
  },
  {
   "cell_type": "code",
   "execution_count": 439,
   "id": "34fa98be",
   "metadata": {},
   "outputs": [
    {
     "data": {
      "text/plain": [
       "0.6966215847311295"
      ]
     },
     "execution_count": 439,
     "metadata": {},
     "output_type": "execute_result"
    }
   ],
   "source": [
    "f = np.polyfit(df['engine-size'],df['price'],3) # training the polynomial model and extracting the coefficients\n",
    "p = np.poly1d(f) # converting the coefficients in f into a polynomial equation\n",
    "x_data = df['engine-size'].to_numpy()\n",
    "yhat_p = p(x_data) # applying the polynomial equation to the elements in x_data\n",
    "r2_score(yhat_p,df['price']) # R squre for 1 dimensional polynomial regression model"
   ]
  },
  {
   "cell_type": "code",
   "execution_count": 452,
   "id": "780e89e9",
   "metadata": {},
   "outputs": [
    {
     "data": {
      "text/plain": [
       "0.9859563202793192"
      ]
     },
     "execution_count": 452,
     "metadata": {},
     "output_type": "execute_result"
    }
   ],
   "source": [
    "input=[('polynomial',PolynomialFeatures(degree=3,include_bias=False)),('model',LinearRegression())]\n",
    "pipe=Pipeline(input)\n",
    "pipe.fit(df[cor_list],y) # training the pipeline\n",
    "pipe.score(df[cor_list],df['price']) # R squre for multi dimensional polynomial regression model"
   ]
  },
  {
   "cell_type": "code",
   "execution_count": 451,
   "id": "4fdb1840",
   "metadata": {},
   "outputs": [
    {
     "data": {
      "text/plain": [
       "0.9859563202852429"
      ]
     },
     "execution_count": 451,
     "metadata": {},
     "output_type": "execute_result"
    }
   ],
   "source": [
    "# building input including the scaling\n",
    "input=[('scale',StandardScaler()),('polynomial',PolynomialFeatures(degree=3,include_bias=False)),('model',LinearRegression())]\n",
    "pipe=Pipeline(input)\n",
    "pipe.fit(df[cor_list],y) # training the pipeline\n",
    "pipe.score(df[cor_list],df['price']) # R squre for multi dimensional polynomial regression model"
   ]
  },
  {
   "cell_type": "markdown",
   "id": "d8b006bd",
   "metadata": {},
   "source": [
    "**Discussion**: The comparison of R square for 4 regression models indicates similar findings to those presented above for MSE. Also, for multi-dimensional polynomial equation when scaling is employed, the R square improves but it is negligible."
   ]
  }
 ],
 "metadata": {
  "kernelspec": {
   "display_name": "Python 3",
   "language": "python",
   "name": "python3"
  },
  "language_info": {
   "codemirror_mode": {
    "name": "ipython",
    "version": 3
   },
   "file_extension": ".py",
   "mimetype": "text/x-python",
   "name": "python",
   "nbconvert_exporter": "python",
   "pygments_lexer": "ipython3",
   "version": "3.8.8"
  }
 },
 "nbformat": 4,
 "nbformat_minor": 5
}
