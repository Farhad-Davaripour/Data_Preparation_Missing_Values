{
 "cells": [
  {
   "cell_type": "markdown",
   "id": "6925ebb0",
   "metadata": {},
   "source": [
    "### This hands-on lab is to pre-process an auto dataset and perform descriptive statistical analyses. \n",
    "✔ link to download the data set: [Link](https://cf-courses-data.s3.us.cloud-object-storage.appdomain.cloud/IBMDeveloperSkillsNetwork-DA0101EN-SkillsNetwork/labs/Data%20files/auto.csv)"
   ]
  },
  {
   "cell_type": "code",
   "execution_count": 266,
   "id": "b0408df3",
   "metadata": {},
   "outputs": [],
   "source": [
    "import os\n",
    "import pandas as pd\n",
    "import numpy as np\n",
    "import matplotlib.pyplot as plt\n",
    "import seaborn as sns\n",
    "import scipy\n",
    "import itertools"
   ]
  },
  {
   "cell_type": "code",
   "execution_count": 267,
   "id": "7750e595",
   "metadata": {},
   "outputs": [],
   "source": [
    "# Changing the current directory\n",
    "os.chdir('G:\\My Drive\\Career\\IBM certificate\\Database')"
   ]
  },
  {
   "cell_type": "code",
   "execution_count": 268,
   "id": "dffeb5bd",
   "metadata": {},
   "outputs": [],
   "source": [
    "# reading the csv file using Pandas library\n",
    "url=\"https://cf-courses-data.s3.us.cloud-object-storage.appdomain.cloud/IBMDeveloperSkillsNetwork-DA0101EN-SkillsNetwork/labs/Data%20files/auto.csv\"\n",
    "df = pd.read_csv(url, header=None) # storing the csv file in a data frame named df"
   ]
  },
  {
   "cell_type": "code",
   "execution_count": 269,
   "id": "76c8e9a2",
   "metadata": {},
   "outputs": [],
   "source": [
    "# add header manually to df\n",
    "headers = [\"symboling\",\"normalized-losses\",\"make\",\"fuel-type\",\"aspiration\", \"num-of-doors\",\"body-style\",\n",
    "         \"drive-wheels\",\"engine-location\",\"wheel-base\", \"length\",\"width\",\"height\",\"curb-weight\",\"engine-type\",\n",
    "         \"num-of-cylinders\", \"engine-size\",\"fuel-system\",\"bore\",\"stroke\",\"compression-ratio\",\"horsepower\",\n",
    "         \"peak-rpm\",\"city-mpg\",\"highway-mpg\",\"price\"]\n",
    "df.columns = headers"
   ]
  },
  {
   "cell_type": "markdown",
   "id": "d78cabc4",
   "metadata": {},
   "source": [
    "## Rreliminary conversion"
   ]
  },
  {
   "cell_type": "code",
   "execution_count": 270,
   "id": "052c521b",
   "metadata": {},
   "outputs": [],
   "source": [
    "# thic converts mile per gallon to km per liter\n",
    "df['city-mpg']=df['city-mpg']*0.425144\n",
    "df['highway-mpg']=df['highway-mpg']*0.425144"
   ]
  },
  {
   "cell_type": "markdown",
   "id": "a8c346ad",
   "metadata": {},
   "source": [
    "## Missing values\n",
    "In this section missing values are identified and replaced with appropriate values. "
   ]
  },
  {
   "cell_type": "code",
   "execution_count": 271,
   "id": "e56f280d",
   "metadata": {},
   "outputs": [
    {
     "data": {
      "text/html": [
       "<div>\n",
       "<style scoped>\n",
       "    .dataframe tbody tr th:only-of-type {\n",
       "        vertical-align: middle;\n",
       "    }\n",
       "\n",
       "    .dataframe tbody tr th {\n",
       "        vertical-align: top;\n",
       "    }\n",
       "\n",
       "    .dataframe thead th {\n",
       "        text-align: right;\n",
       "    }\n",
       "</style>\n",
       "<table border=\"1\" class=\"dataframe\">\n",
       "  <thead>\n",
       "    <tr style=\"text-align: right;\">\n",
       "      <th></th>\n",
       "      <th>symboling</th>\n",
       "      <th>normalized-losses</th>\n",
       "      <th>make</th>\n",
       "      <th>fuel-type</th>\n",
       "      <th>aspiration</th>\n",
       "      <th>num-of-doors</th>\n",
       "      <th>body-style</th>\n",
       "      <th>drive-wheels</th>\n",
       "      <th>engine-location</th>\n",
       "      <th>wheel-base</th>\n",
       "      <th>...</th>\n",
       "      <th>engine-size</th>\n",
       "      <th>fuel-system</th>\n",
       "      <th>bore</th>\n",
       "      <th>stroke</th>\n",
       "      <th>compression-ratio</th>\n",
       "      <th>horsepower</th>\n",
       "      <th>peak-rpm</th>\n",
       "      <th>city-mpg</th>\n",
       "      <th>highway-mpg</th>\n",
       "      <th>price</th>\n",
       "    </tr>\n",
       "  </thead>\n",
       "  <tbody>\n",
       "    <tr>\n",
       "      <th>0</th>\n",
       "      <td>3</td>\n",
       "      <td>?</td>\n",
       "      <td>alfa-romero</td>\n",
       "      <td>gas</td>\n",
       "      <td>std</td>\n",
       "      <td>two</td>\n",
       "      <td>convertible</td>\n",
       "      <td>rwd</td>\n",
       "      <td>front</td>\n",
       "      <td>88.6</td>\n",
       "      <td>...</td>\n",
       "      <td>130</td>\n",
       "      <td>mpfi</td>\n",
       "      <td>3.47</td>\n",
       "      <td>2.68</td>\n",
       "      <td>9.0</td>\n",
       "      <td>111</td>\n",
       "      <td>5000</td>\n",
       "      <td>8.928024</td>\n",
       "      <td>11.478888</td>\n",
       "      <td>13495</td>\n",
       "    </tr>\n",
       "    <tr>\n",
       "      <th>1</th>\n",
       "      <td>3</td>\n",
       "      <td>?</td>\n",
       "      <td>alfa-romero</td>\n",
       "      <td>gas</td>\n",
       "      <td>std</td>\n",
       "      <td>two</td>\n",
       "      <td>convertible</td>\n",
       "      <td>rwd</td>\n",
       "      <td>front</td>\n",
       "      <td>88.6</td>\n",
       "      <td>...</td>\n",
       "      <td>130</td>\n",
       "      <td>mpfi</td>\n",
       "      <td>3.47</td>\n",
       "      <td>2.68</td>\n",
       "      <td>9.0</td>\n",
       "      <td>111</td>\n",
       "      <td>5000</td>\n",
       "      <td>8.928024</td>\n",
       "      <td>11.478888</td>\n",
       "      <td>16500</td>\n",
       "    </tr>\n",
       "    <tr>\n",
       "      <th>2</th>\n",
       "      <td>1</td>\n",
       "      <td>?</td>\n",
       "      <td>alfa-romero</td>\n",
       "      <td>gas</td>\n",
       "      <td>std</td>\n",
       "      <td>two</td>\n",
       "      <td>hatchback</td>\n",
       "      <td>rwd</td>\n",
       "      <td>front</td>\n",
       "      <td>94.5</td>\n",
       "      <td>...</td>\n",
       "      <td>152</td>\n",
       "      <td>mpfi</td>\n",
       "      <td>2.68</td>\n",
       "      <td>3.47</td>\n",
       "      <td>9.0</td>\n",
       "      <td>154</td>\n",
       "      <td>5000</td>\n",
       "      <td>8.077736</td>\n",
       "      <td>11.053744</td>\n",
       "      <td>16500</td>\n",
       "    </tr>\n",
       "    <tr>\n",
       "      <th>3</th>\n",
       "      <td>2</td>\n",
       "      <td>164</td>\n",
       "      <td>audi</td>\n",
       "      <td>gas</td>\n",
       "      <td>std</td>\n",
       "      <td>four</td>\n",
       "      <td>sedan</td>\n",
       "      <td>fwd</td>\n",
       "      <td>front</td>\n",
       "      <td>99.8</td>\n",
       "      <td>...</td>\n",
       "      <td>109</td>\n",
       "      <td>mpfi</td>\n",
       "      <td>3.19</td>\n",
       "      <td>3.40</td>\n",
       "      <td>10.0</td>\n",
       "      <td>102</td>\n",
       "      <td>5500</td>\n",
       "      <td>10.203456</td>\n",
       "      <td>12.754320</td>\n",
       "      <td>13950</td>\n",
       "    </tr>\n",
       "    <tr>\n",
       "      <th>4</th>\n",
       "      <td>2</td>\n",
       "      <td>164</td>\n",
       "      <td>audi</td>\n",
       "      <td>gas</td>\n",
       "      <td>std</td>\n",
       "      <td>four</td>\n",
       "      <td>sedan</td>\n",
       "      <td>4wd</td>\n",
       "      <td>front</td>\n",
       "      <td>99.4</td>\n",
       "      <td>...</td>\n",
       "      <td>136</td>\n",
       "      <td>mpfi</td>\n",
       "      <td>3.19</td>\n",
       "      <td>3.40</td>\n",
       "      <td>8.0</td>\n",
       "      <td>115</td>\n",
       "      <td>5500</td>\n",
       "      <td>7.652592</td>\n",
       "      <td>9.353168</td>\n",
       "      <td>17450</td>\n",
       "    </tr>\n",
       "  </tbody>\n",
       "</table>\n",
       "<p>5 rows × 26 columns</p>\n",
       "</div>"
      ],
      "text/plain": [
       "   symboling normalized-losses         make fuel-type aspiration num-of-doors  \\\n",
       "0          3                 ?  alfa-romero       gas        std          two   \n",
       "1          3                 ?  alfa-romero       gas        std          two   \n",
       "2          1                 ?  alfa-romero       gas        std          two   \n",
       "3          2               164         audi       gas        std         four   \n",
       "4          2               164         audi       gas        std         four   \n",
       "\n",
       "    body-style drive-wheels engine-location  wheel-base  ...  engine-size  \\\n",
       "0  convertible          rwd           front        88.6  ...          130   \n",
       "1  convertible          rwd           front        88.6  ...          130   \n",
       "2    hatchback          rwd           front        94.5  ...          152   \n",
       "3        sedan          fwd           front        99.8  ...          109   \n",
       "4        sedan          4wd           front        99.4  ...          136   \n",
       "\n",
       "   fuel-system  bore  stroke compression-ratio horsepower  peak-rpm  \\\n",
       "0         mpfi  3.47    2.68               9.0        111      5000   \n",
       "1         mpfi  3.47    2.68               9.0        111      5000   \n",
       "2         mpfi  2.68    3.47               9.0        154      5000   \n",
       "3         mpfi  3.19    3.40              10.0        102      5500   \n",
       "4         mpfi  3.19    3.40               8.0        115      5500   \n",
       "\n",
       "    city-mpg highway-mpg  price  \n",
       "0   8.928024   11.478888  13495  \n",
       "1   8.928024   11.478888  16500  \n",
       "2   8.077736   11.053744  16500  \n",
       "3  10.203456   12.754320  13950  \n",
       "4   7.652592    9.353168  17450  \n",
       "\n",
       "[5 rows x 26 columns]"
      ]
     },
     "execution_count": 271,
     "metadata": {},
     "output_type": "execute_result"
    }
   ],
   "source": [
    "df.head(5)"
   ]
  },
  {
   "cell_type": "markdown",
   "id": "0f166708",
   "metadata": {},
   "source": [
    "**Discussion**: Looking at the data frame header above shows there are a few cells with \"?\" as value. These cells should be replaced with none values using numpy.nan."
   ]
  },
  {
   "cell_type": "code",
   "execution_count": 272,
   "id": "2ec5f971",
   "metadata": {},
   "outputs": [],
   "source": [
    "# replace the missing values with np.nan\n",
    "df = df.replace('?',np.nan)"
   ]
  },
  {
   "cell_type": "code",
   "execution_count": 273,
   "id": "48ee8710",
   "metadata": {},
   "outputs": [
    {
     "name": "stdout",
     "output_type": "stream",
     "text": [
      "NORMALIZED-LOSSES : False    164\n",
      "True      41\n",
      "Name: normalized-losses, dtype: int64 \n",
      "\n",
      "NUM-OF-DOORS : False    203\n",
      "True       2\n",
      "Name: num-of-doors, dtype: int64 \n",
      "\n",
      "BORE : False    201\n",
      "True       4\n",
      "Name: bore, dtype: int64 \n",
      "\n",
      "STROKE : False    201\n",
      "True       4\n",
      "Name: stroke, dtype: int64 \n",
      "\n",
      "HORSEPOWER : False    203\n",
      "True       2\n",
      "Name: horsepower, dtype: int64 \n",
      "\n",
      "PEAK-RPM : False    203\n",
      "True       2\n",
      "Name: peak-rpm, dtype: int64 \n",
      "\n",
      "PRICE : False    201\n",
      "True       4\n",
      "Name: price, dtype: int64 \n",
      "\n"
     ]
    },
    {
     "data": {
      "text/plain": [
       "['normalized-losses',\n",
       " 'num-of-doors',\n",
       " 'bore',\n",
       " 'stroke',\n",
       " 'horsepower',\n",
       " 'peak-rpm',\n",
       " 'price']"
      ]
     },
     "execution_count": 273,
     "metadata": {},
     "output_type": "execute_result"
    }
   ],
   "source": [
    "# we can now count the number of missing values\n",
    "df_nan = df.isnull()\n",
    "column_with_nan = []\n",
    "for column in df_nan.columns.values.tolist():\n",
    "    if True in df_nan[column].values:\n",
    "        print(column.upper(),\":\" , df_nan[column].value_counts(),'\\n')\n",
    "        column_with_nan.append(column)\n",
    "column_with_nan"
   ]
  },
  {
   "cell_type": "markdown",
   "id": "068822fe",
   "metadata": {},
   "source": [
    "**Discussion**: The number of missing values are highest in the normalized-losses column (around 25%). These cells should be replaced by a value which represents the rest of data. The list of columns with missing values are also provided above."
   ]
  },
  {
   "cell_type": "markdown",
   "id": "87b43cac",
   "metadata": {},
   "source": [
    "#### Replacing the missing values with average value"
   ]
  },
  {
   "cell_type": "code",
   "execution_count": 274,
   "id": "d4ece4aa",
   "metadata": {},
   "outputs": [
    {
     "data": {
      "text/html": [
       "<div>\n",
       "<style scoped>\n",
       "    .dataframe tbody tr th:only-of-type {\n",
       "        vertical-align: middle;\n",
       "    }\n",
       "\n",
       "    .dataframe tbody tr th {\n",
       "        vertical-align: top;\n",
       "    }\n",
       "\n",
       "    .dataframe thead th {\n",
       "        text-align: right;\n",
       "    }\n",
       "</style>\n",
       "<table border=\"1\" class=\"dataframe\">\n",
       "  <thead>\n",
       "    <tr style=\"text-align: right;\">\n",
       "      <th></th>\n",
       "      <th>normalized-losses</th>\n",
       "      <th>num-of-doors</th>\n",
       "      <th>bore</th>\n",
       "      <th>stroke</th>\n",
       "      <th>horsepower</th>\n",
       "      <th>peak-rpm</th>\n",
       "      <th>price</th>\n",
       "    </tr>\n",
       "  </thead>\n",
       "  <tbody>\n",
       "    <tr>\n",
       "      <th>0</th>\n",
       "      <td>NaN</td>\n",
       "      <td>two</td>\n",
       "      <td>3.47</td>\n",
       "      <td>2.68</td>\n",
       "      <td>111</td>\n",
       "      <td>5000</td>\n",
       "      <td>13495</td>\n",
       "    </tr>\n",
       "    <tr>\n",
       "      <th>1</th>\n",
       "      <td>NaN</td>\n",
       "      <td>two</td>\n",
       "      <td>3.47</td>\n",
       "      <td>2.68</td>\n",
       "      <td>111</td>\n",
       "      <td>5000</td>\n",
       "      <td>16500</td>\n",
       "    </tr>\n",
       "    <tr>\n",
       "      <th>2</th>\n",
       "      <td>NaN</td>\n",
       "      <td>two</td>\n",
       "      <td>2.68</td>\n",
       "      <td>3.47</td>\n",
       "      <td>154</td>\n",
       "      <td>5000</td>\n",
       "      <td>16500</td>\n",
       "    </tr>\n",
       "    <tr>\n",
       "      <th>3</th>\n",
       "      <td>164</td>\n",
       "      <td>four</td>\n",
       "      <td>3.19</td>\n",
       "      <td>3.40</td>\n",
       "      <td>102</td>\n",
       "      <td>5500</td>\n",
       "      <td>13950</td>\n",
       "    </tr>\n",
       "  </tbody>\n",
       "</table>\n",
       "</div>"
      ],
      "text/plain": [
       "  normalized-losses num-of-doors  bore stroke horsepower peak-rpm  price\n",
       "0               NaN          two  3.47   2.68        111     5000  13495\n",
       "1               NaN          two  3.47   2.68        111     5000  16500\n",
       "2               NaN          two  2.68   3.47        154     5000  16500\n",
       "3               164         four  3.19   3.40        102     5500  13950"
      ]
     },
     "execution_count": 274,
     "metadata": {},
     "output_type": "execute_result"
    }
   ],
   "source": [
    "# all the columns with missing values are assigned to the data frame df_with_nan\n",
    "df_with_nan=pd.DataFrame()\n",
    "for a in column_with_nan:\n",
    "    df_with_nan[a]=df[a]\n",
    "df_with_nan.head(4)"
   ]
  },
  {
   "cell_type": "markdown",
   "id": "c43d9626",
   "metadata": {},
   "source": [
    "**Discussion**: The data frame with missing values (df_with_nan) includes columns with numeric values and object data type (only one column has object data type)."
   ]
  },
  {
   "cell_type": "code",
   "execution_count": 275,
   "id": "24604361",
   "metadata": {},
   "outputs": [
    {
     "data": {
      "text/plain": [
       "array(['two', 'four', nan], dtype=object)"
      ]
     },
     "execution_count": 275,
     "metadata": {},
     "output_type": "execute_result"
    }
   ],
   "source": [
    "df_with_nan['num-of-doors'].unique()"
   ]
  },
  {
   "cell_type": "markdown",
   "id": "5fa01f7c",
   "metadata": {},
   "source": [
    "**Discussion**: There are two types of values (two and four) in the column num-of-doors. let's count the number of each value type."
   ]
  },
  {
   "cell_type": "code",
   "execution_count": 276,
   "id": "3555a0c0",
   "metadata": {},
   "outputs": [
    {
     "name": "stdout",
     "output_type": "stream",
     "text": [
      "four    114\n",
      "two      89\n",
      "Name: num-of-doors, dtype: int64\n",
      "number of missing values is equal to 2\n"
     ]
    }
   ],
   "source": [
    "door_value_count = df_with_nan['num-of-doors'].value_counts()\n",
    "print(door_value_count)\n",
    "print(f\"number of missing values is equal to {205-door_value_count[0]-door_value_count[1]}\")"
   ]
  },
  {
   "cell_type": "markdown",
   "id": "32686070",
   "metadata": {},
   "source": [
    "**Discussion**: Only 2 values are missing values. These two values will be replaced by four which has the highest frequency in the column."
   ]
  },
  {
   "cell_type": "code",
   "execution_count": 277,
   "id": "a4a1b4c2",
   "metadata": {},
   "outputs": [
    {
     "name": "stdout",
     "output_type": "stream",
     "text": [
      "['normalized-losses', 'bore', 'stroke', 'horsepower', 'peak-rpm', 'price']\n"
     ]
    }
   ],
   "source": [
    "df_with_nan['num-of-doors'].replace(np.nan,'four',inplace=True)\n",
    "column_with_nan.remove('num-of-doors')\n",
    "print(column_with_nan)"
   ]
  },
  {
   "cell_type": "markdown",
   "id": "ffe5e696",
   "metadata": {},
   "source": [
    "**Discussion**: The null values in the column num-of-doors are replaced with 'four' and this element is removed from the list column_with_nan. For the remaining elements in the list,the missing values are replaced with the average values of the column. The code is presented in the cell below. "
   ]
  },
  {
   "cell_type": "code",
   "execution_count": 278,
   "id": "167be1a3",
   "metadata": {},
   "outputs": [],
   "source": [
    "for column in column_with_nan:\n",
    "    df[column] = df[column].astype('float') # change the data type to float\n",
    "    normalized_not_null = df[df[column].notnull()][column] # filter only the not null values\n",
    "    normalized_not_null_avg = normalized_not_null.mean() # find the average value of the column\n",
    "    df[column].replace(np.nan,normalized_not_null_avg, inplace=True) # replace the missing value with the average value"
   ]
  },
  {
   "cell_type": "markdown",
   "id": "81cda5d6",
   "metadata": {},
   "source": [
    "**Discussion**: All the missing values in the data frame df are replaced with an appropriate value"
   ]
  },
  {
   "cell_type": "markdown",
   "id": "d90e76ff",
   "metadata": {},
   "source": [
    "## Normalizing dataframe in python"
   ]
  },
  {
   "cell_type": "markdown",
   "id": "5e61db75",
   "metadata": {},
   "source": [
    "Normalizing the columns that have different ranges of numerical data helps the accuracy of the machine learning models."
   ]
  },
  {
   "cell_type": "code",
   "execution_count": 279,
   "id": "0cad2f58",
   "metadata": {},
   "outputs": [],
   "source": [
    "# let's find the columns with non object type values\n",
    "column_not_object = []\n",
    "for d in df.columns:\n",
    "    if df[d].dtype!=object:\n",
    "        column_not_object.append(d)"
   ]
  },
  {
   "cell_type": "code",
   "execution_count": 280,
   "id": "c1071750",
   "metadata": {},
   "outputs": [
    {
     "data": {
      "text/html": [
       "<div>\n",
       "<style scoped>\n",
       "    .dataframe tbody tr th:only-of-type {\n",
       "        vertical-align: middle;\n",
       "    }\n",
       "\n",
       "    .dataframe tbody tr th {\n",
       "        vertical-align: top;\n",
       "    }\n",
       "\n",
       "    .dataframe thead th {\n",
       "        text-align: right;\n",
       "    }\n",
       "</style>\n",
       "<table border=\"1\" class=\"dataframe\">\n",
       "  <thead>\n",
       "    <tr style=\"text-align: right;\">\n",
       "      <th></th>\n",
       "      <th>column name</th>\n",
       "      <th>min</th>\n",
       "      <th>max</th>\n",
       "    </tr>\n",
       "  </thead>\n",
       "  <tbody>\n",
       "    <tr>\n",
       "      <th>0</th>\n",
       "      <td>symboling</td>\n",
       "      <td>-2.000000</td>\n",
       "      <td>3.000000</td>\n",
       "    </tr>\n",
       "    <tr>\n",
       "      <th>1</th>\n",
       "      <td>normalized-losses</td>\n",
       "      <td>65.000000</td>\n",
       "      <td>256.000000</td>\n",
       "    </tr>\n",
       "    <tr>\n",
       "      <th>2</th>\n",
       "      <td>wheel-base</td>\n",
       "      <td>86.600000</td>\n",
       "      <td>120.900000</td>\n",
       "    </tr>\n",
       "    <tr>\n",
       "      <th>3</th>\n",
       "      <td>length</td>\n",
       "      <td>141.100000</td>\n",
       "      <td>208.100000</td>\n",
       "    </tr>\n",
       "    <tr>\n",
       "      <th>4</th>\n",
       "      <td>width</td>\n",
       "      <td>60.300000</td>\n",
       "      <td>72.300000</td>\n",
       "    </tr>\n",
       "    <tr>\n",
       "      <th>5</th>\n",
       "      <td>height</td>\n",
       "      <td>47.800000</td>\n",
       "      <td>59.800000</td>\n",
       "    </tr>\n",
       "    <tr>\n",
       "      <th>6</th>\n",
       "      <td>curb-weight</td>\n",
       "      <td>1488.000000</td>\n",
       "      <td>4066.000000</td>\n",
       "    </tr>\n",
       "    <tr>\n",
       "      <th>7</th>\n",
       "      <td>engine-size</td>\n",
       "      <td>61.000000</td>\n",
       "      <td>326.000000</td>\n",
       "    </tr>\n",
       "    <tr>\n",
       "      <th>8</th>\n",
       "      <td>bore</td>\n",
       "      <td>2.540000</td>\n",
       "      <td>3.940000</td>\n",
       "    </tr>\n",
       "    <tr>\n",
       "      <th>9</th>\n",
       "      <td>stroke</td>\n",
       "      <td>2.070000</td>\n",
       "      <td>4.170000</td>\n",
       "    </tr>\n",
       "    <tr>\n",
       "      <th>10</th>\n",
       "      <td>compression-ratio</td>\n",
       "      <td>7.000000</td>\n",
       "      <td>23.000000</td>\n",
       "    </tr>\n",
       "    <tr>\n",
       "      <th>11</th>\n",
       "      <td>horsepower</td>\n",
       "      <td>48.000000</td>\n",
       "      <td>288.000000</td>\n",
       "    </tr>\n",
       "    <tr>\n",
       "      <th>12</th>\n",
       "      <td>peak-rpm</td>\n",
       "      <td>4150.000000</td>\n",
       "      <td>6600.000000</td>\n",
       "    </tr>\n",
       "    <tr>\n",
       "      <th>13</th>\n",
       "      <td>city-mpg</td>\n",
       "      <td>5.526872</td>\n",
       "      <td>20.832056</td>\n",
       "    </tr>\n",
       "    <tr>\n",
       "      <th>14</th>\n",
       "      <td>highway-mpg</td>\n",
       "      <td>6.802304</td>\n",
       "      <td>22.957776</td>\n",
       "    </tr>\n",
       "    <tr>\n",
       "      <th>15</th>\n",
       "      <td>price</td>\n",
       "      <td>5118.000000</td>\n",
       "      <td>45400.000000</td>\n",
       "    </tr>\n",
       "  </tbody>\n",
       "</table>\n",
       "</div>"
      ],
      "text/plain": [
       "          column name          min           max\n",
       "0           symboling    -2.000000      3.000000\n",
       "1   normalized-losses    65.000000    256.000000\n",
       "2          wheel-base    86.600000    120.900000\n",
       "3              length   141.100000    208.100000\n",
       "4               width    60.300000     72.300000\n",
       "5              height    47.800000     59.800000\n",
       "6         curb-weight  1488.000000   4066.000000\n",
       "7         engine-size    61.000000    326.000000\n",
       "8                bore     2.540000      3.940000\n",
       "9              stroke     2.070000      4.170000\n",
       "10  compression-ratio     7.000000     23.000000\n",
       "11         horsepower    48.000000    288.000000\n",
       "12           peak-rpm  4150.000000   6600.000000\n",
       "13           city-mpg     5.526872     20.832056\n",
       "14        highway-mpg     6.802304     22.957776\n",
       "15              price  5118.000000  45400.000000"
      ]
     },
     "execution_count": 280,
     "metadata": {},
     "output_type": "execute_result"
    }
   ],
   "source": [
    "df_max_not_object=[]\n",
    "df_min_not_object=[]\n",
    "for e in column_not_object:\n",
    "    df_max_not_object.append(df[e].max())\n",
    "    df_min_not_object.append(df[e].min())\n",
    "df_max_min = pd.DataFrame({'column name':column_not_object,'min':df_min_not_object,'max':df_max_not_object})\n",
    "df_max_min"
   ]
  },
  {
   "cell_type": "markdown",
   "id": "6f9c6d45",
   "metadata": {},
   "source": [
    "**Discussion**: The results above shows that data ranges are differently distributed in different columns. For instance the curb-weight and peak-rpm columns have significantly higher data range compared to other feature variables. Let's normalize these two columns."
   ]
  },
  {
   "cell_type": "code",
   "execution_count": 281,
   "id": "2a06dcb9",
   "metadata": {},
   "outputs": [
    {
     "data": {
      "text/html": [
       "<div>\n",
       "<style scoped>\n",
       "    .dataframe tbody tr th:only-of-type {\n",
       "        vertical-align: middle;\n",
       "    }\n",
       "\n",
       "    .dataframe tbody tr th {\n",
       "        vertical-align: top;\n",
       "    }\n",
       "\n",
       "    .dataframe thead th {\n",
       "        text-align: right;\n",
       "    }\n",
       "</style>\n",
       "<table border=\"1\" class=\"dataframe\">\n",
       "  <thead>\n",
       "    <tr style=\"text-align: right;\">\n",
       "      <th></th>\n",
       "      <th>curb-weight</th>\n",
       "      <th>peak-rpm</th>\n",
       "    </tr>\n",
       "  </thead>\n",
       "  <tbody>\n",
       "    <tr>\n",
       "      <th>0</th>\n",
       "      <td>-0.014531</td>\n",
       "      <td>-0.262841</td>\n",
       "    </tr>\n",
       "    <tr>\n",
       "      <th>1</th>\n",
       "      <td>-0.014531</td>\n",
       "      <td>-0.262841</td>\n",
       "    </tr>\n",
       "    <tr>\n",
       "      <th>2</th>\n",
       "      <td>0.513625</td>\n",
       "      <td>-0.262841</td>\n",
       "    </tr>\n",
       "    <tr>\n",
       "      <th>3</th>\n",
       "      <td>-0.419770</td>\n",
       "      <td>0.785423</td>\n",
       "    </tr>\n",
       "    <tr>\n",
       "      <th>4</th>\n",
       "      <td>0.515545</td>\n",
       "      <td>0.785423</td>\n",
       "    </tr>\n",
       "  </tbody>\n",
       "</table>\n",
       "</div>"
      ],
      "text/plain": [
       "   curb-weight  peak-rpm\n",
       "0    -0.014531 -0.262841\n",
       "1    -0.014531 -0.262841\n",
       "2     0.513625 -0.262841\n",
       "3    -0.419770  0.785423\n",
       "4     0.515545  0.785423"
      ]
     },
     "execution_count": 281,
     "metadata": {},
     "output_type": "execute_result"
    }
   ],
   "source": [
    "def normalize_column(col_name):\n",
    "    df[col_name] = (df[col_name]-df[col_name].mean())/df[col_name].std() # (data-mean(column))/std(column)\n",
    "##\n",
    "normalize_column('curb-weight')\n",
    "normalize_column('peak-rpm')\n",
    "df[['curb-weight','peak-rpm']].head(5)"
   ]
  },
  {
   "cell_type": "code",
   "execution_count": 282,
   "id": "01fb9c2a",
   "metadata": {},
   "outputs": [
    {
     "data": {
      "text/plain": [
       "<AxesSubplot:xlabel='curb-weight', ylabel='peak-rpm'>"
      ]
     },
     "execution_count": 282,
     "metadata": {},
     "output_type": "execute_result"
    },
    {
     "data": {
      "image/png": "[encoded data removed]",
      "text/plain": [
       "<Figure size 432x288 with 1 Axes>"
      ]
     },
     "metadata": {
      "needs_background": "light"
     },
     "output_type": "display_data"
    }
   ],
   "source": [
    "%%capture --no-display \n",
    "sns.scatterplot(df['curb-weight'],df['peak-rpm'])"
   ]
  },
  {
   "cell_type": "markdown",
   "id": "82f4db03",
   "metadata": {},
   "source": [
    "**Discussion**: The scatter plot above shows the normalized range of columns curb-weight and peak-rpm which almost between -3 and 3."
   ]
  },
  {
   "cell_type": "markdown",
   "id": "0c136ca2",
   "metadata": {},
   "source": [
    "## Binning in python\n",
    "Let's group the price column to 3 categories including low, medium, and max."
   ]
  },
  {
   "cell_type": "code",
   "execution_count": 20,
   "id": "3f9a57af",
   "metadata": {},
   "outputs": [],
   "source": [
    "df['price'] =  df['price'].astype('float')\n",
    "price = df['price']\n",
    "bins = np.linspace(min(price),max(price),4)\n",
    "group_name = ('low', 'medium' , 'high')\n",
    "df['price_binned']= pd.cut(df['price'] , bins, labels=group_name, include_lowest=True)"
   ]
  },
  {
   "cell_type": "code",
   "execution_count": 21,
   "id": "5001de47",
   "metadata": {},
   "outputs": [
    {
     "data": {
      "text/plain": [
       "Text(0.5, 1.0, 'Price categories')"
      ]
     },
     "execution_count": 21,
     "metadata": {},
     "output_type": "execute_result"
    },
    {
     "data": {
      "image/png": "[encoded data removed]",
      "text/plain": [
       "<Figure size 432x288 with 1 Axes>"
      ]
     },
     "metadata": {
      "needs_background": "light"
     },
     "output_type": "display_data"
    }
   ],
   "source": [
    "%%capture --no-display \n",
    "sns.histplot(df['price_binned'])\n",
    "plt.title('Price categories')"
   ]
  },
  {
   "cell_type": "markdown",
   "id": "ac73ea34",
   "metadata": {},
   "source": [
    "**Discussion**: The plot above shows that the low priced cars (max low priced car <= 33% max car price) have higher population. The other two categories have similar number of data.The number of data in each category is presented below."
   ]
  },
  {
   "cell_type": "code",
   "execution_count": 22,
   "id": "6be8fdac",
   "metadata": {
    "scrolled": true
   },
   "outputs": [
    {
     "data": {
      "text/html": [
       "<div>\n",
       "<style scoped>\n",
       "    .dataframe tbody tr th:only-of-type {\n",
       "        vertical-align: middle;\n",
       "    }\n",
       "\n",
       "    .dataframe tbody tr th {\n",
       "        vertical-align: top;\n",
       "    }\n",
       "\n",
       "    .dataframe thead th {\n",
       "        text-align: right;\n",
       "    }\n",
       "</style>\n",
       "<table border=\"1\" class=\"dataframe\">\n",
       "  <thead>\n",
       "    <tr style=\"text-align: right;\">\n",
       "      <th></th>\n",
       "      <th>price_category</th>\n",
       "      <th>count_value</th>\n",
       "    </tr>\n",
       "  </thead>\n",
       "  <tbody>\n",
       "    <tr>\n",
       "      <th>0</th>\n",
       "      <td>low</td>\n",
       "      <td>175</td>\n",
       "    </tr>\n",
       "    <tr>\n",
       "      <th>1</th>\n",
       "      <td>medium</td>\n",
       "      <td>18</td>\n",
       "    </tr>\n",
       "    <tr>\n",
       "      <th>2</th>\n",
       "      <td>high</td>\n",
       "      <td>12</td>\n",
       "    </tr>\n",
       "  </tbody>\n",
       "</table>\n",
       "</div>"
      ],
      "text/plain": [
       "  price_category  count_value\n",
       "0            low          175\n",
       "1         medium           18\n",
       "2           high           12"
      ]
     },
     "execution_count": 22,
     "metadata": {},
     "output_type": "execute_result"
    }
   ],
   "source": [
    "df_bin_count = df['price_binned'].value_counts().to_frame()\n",
    "df_bin_count.rename(columns={'price_binned':'count_value'},inplace=True)\n",
    "df_bin_count.index.name='price_category'\n",
    "df_bin_count = df_bin_count.reset_index()\n",
    "df_bin_count"
   ]
  },
  {
   "cell_type": "markdown",
   "id": "2c6bb633",
   "metadata": {},
   "source": [
    "\n",
    "## Descriptive statistic analysis:\n",
    "### Continuous variables\n",
    "Extracting the correlation between variables  "
   ]
  },
  {
   "cell_type": "code",
   "execution_count": 23,
   "id": "a2931f43",
   "metadata": {
    "scrolled": true
   },
   "outputs": [
    {
     "data": {
      "text/plain": [
       "<AxesSubplot:>"
      ]
     },
     "execution_count": 23,
     "metadata": {},
     "output_type": "execute_result"
    },
    {
     "data": {
      "image/png": "[encoded data removed]",
      "text/plain": [
       "<Figure size 1080x576 with 2 Axes>"
      ]
     },
     "metadata": {
      "needs_background": "light"
     },
     "output_type": "display_data"
    }
   ],
   "source": [
    "df_corr = df.corr() # extracting the correlation coefficient of all the continuous variables\n",
    "fig, ax=plt.subplots(figsize=(15,8))\n",
    "sns.heatmap(df_corr,annot=True,fmt='.2f',ax=ax,cmap='RdYlGn') # heatmap plot on corr coeffs to display what variables have siginficiant corr coeff"
   ]
  },
  {
   "cell_type": "markdown",
   "id": "07f1c385",
   "metadata": {},
   "source": [
    "**Discussion**: From the heatmap plot above, it could be concluded that it is likely that the below variables are not strong predictive features for the target variable \"price\" (\"i.e., these variables could be excluded in the machine learning model\"):   \n",
    "*symbolling, normalized-losses, height, stroke, compression-ration, peak-rpm*\n",
    "\n",
    "Furthermore, the heatmap plot shows that the **engine-size** is potentially the best predictive feature for the target variable price.\n",
    "\n",
    "Let's plot linear regression lines for engine-size (with highest corr coeff) and stroke (with lowest corr coeff)."
   ]
  },
  {
   "cell_type": "code",
   "execution_count": 285,
   "id": "4387f6b6",
   "metadata": {},
   "outputs": [],
   "source": [
    "def plot_regression(x,y,w,h): # plotting the linear regression and deriving the correlation coefficient for x and y \n",
    "    fig, ax=plt.subplots(figsize=(w,h))\n",
    "    df_limit = df[[x,y]]\n",
    "    plt.scatter(x ,y,data=df_limit)\n",
    "    pr = scipy.stats.pearsonr(df[x],df[y]) # pearsonr method is employed to obtain the cor coeff and p_value\n",
    "    plt.title(f'Corr coeff and p_value for {x} and {y} are equal to \\n' + str(round(pr[0],3))+\" and \"+str(pr[1]))\n",
    "    sns.regplot(x ,y,data=df_limit) # finding the linear regression between the feature variable and target variable"
   ]
  },
  {
   "cell_type": "code",
   "execution_count": 286,
   "id": "57d18f98",
   "metadata": {},
   "outputs": [
    {
     "data": {
      "image/png": "[encoded data removed]",
      "text/plain": [
       "<Figure size 360x360 with 1 Axes>"
      ]
     },
     "metadata": {
      "needs_background": "light"
     },
     "output_type": "display_data"
    },
    {
     "data": {
      "image/png": "[encoded data removed]",
      "text/plain": [
       "<Figure size 360x360 with 1 Axes>"
      ]
     },
     "metadata": {
      "needs_background": "light"
     },
     "output_type": "display_data"
    }
   ],
   "source": [
    "%%capture --no-display \n",
    "# The above magic command is used to prevent displying the warning messages\n",
    "y = 'price' # target variale\n",
    "w = 5 # width of the box plot\n",
    "h = 5 # height of the box plot\n",
    "plot_regression('engine-size',y,w,h)\n",
    "plot_regression('stroke',y,w,h)"
   ]
  },
  {
   "cell_type": "markdown",
   "id": "1807e576",
   "metadata": {},
   "source": [
    "**Discussion**: The plots above shows that as expected the engine-size has a strong positive correlation with the target variable, and stroke has a very small positive correlation with price. Hence, the latter feature may not be a good predictive feature for the price variable. In order to find the strength of the dependency p_value could be extracted using pearsonr method in scipy library as shown in the title of the above plots and also presented below."
   ]
  },
  {
   "cell_type": "code",
   "execution_count": 26,
   "id": "54eec6f4",
   "metadata": {},
   "outputs": [
    {
     "name": "stdout",
     "output_type": "stream",
     "text": [
      "correlation coefficient for engine-size and price = 0.8617522436859719\n",
      "pearson value for engine-size and price = 9.669661923636975e-62\n"
     ]
    }
   ],
   "source": [
    "A='engine-size'\n",
    "B='price'\n",
    "corr_coeff,pearson_value =  scipy.stats.pearsonr(df[A],df[B])\n",
    "print(f'correlation coefficient for {A} and {B} = {corr_coeff}')\n",
    "print(f'pearson value for {A} and {B} = {pearson_value}')"
   ]
  },
  {
   "cell_type": "markdown",
   "id": "015d5ab0",
   "metadata": {},
   "source": [
    "**Discussion**: Since the p value presented above is smaller than 0.001, the correlation between price and engine-size is strong and the null hypothesis could be rejected."
   ]
  },
  {
   "cell_type": "markdown",
   "id": "aed932f2",
   "metadata": {},
   "source": [
    "\n",
    "### Categorical variables\n",
    "Association between variables"
   ]
  },
  {
   "cell_type": "code",
   "execution_count": 27,
   "id": "ae00a159",
   "metadata": {
    "scrolled": true
   },
   "outputs": [
    {
     "data": {
      "text/html": [
       "<div>\n",
       "<style scoped>\n",
       "    .dataframe tbody tr th:only-of-type {\n",
       "        vertical-align: middle;\n",
       "    }\n",
       "\n",
       "    .dataframe tbody tr th {\n",
       "        vertical-align: top;\n",
       "    }\n",
       "\n",
       "    .dataframe thead th {\n",
       "        text-align: right;\n",
       "    }\n",
       "</style>\n",
       "<table border=\"1\" class=\"dataframe\">\n",
       "  <thead>\n",
       "    <tr style=\"text-align: right;\">\n",
       "      <th></th>\n",
       "      <th>make</th>\n",
       "      <th>fuel-type</th>\n",
       "      <th>aspiration</th>\n",
       "      <th>num-of-doors</th>\n",
       "      <th>body-style</th>\n",
       "      <th>drive-wheels</th>\n",
       "      <th>engine-location</th>\n",
       "      <th>engine-type</th>\n",
       "      <th>num-of-cylinders</th>\n",
       "      <th>fuel-system</th>\n",
       "    </tr>\n",
       "  </thead>\n",
       "  <tbody>\n",
       "    <tr>\n",
       "      <th>count</th>\n",
       "      <td>205</td>\n",
       "      <td>205</td>\n",
       "      <td>205</td>\n",
       "      <td>203</td>\n",
       "      <td>205</td>\n",
       "      <td>205</td>\n",
       "      <td>205</td>\n",
       "      <td>205</td>\n",
       "      <td>205</td>\n",
       "      <td>205</td>\n",
       "    </tr>\n",
       "    <tr>\n",
       "      <th>unique</th>\n",
       "      <td>22</td>\n",
       "      <td>2</td>\n",
       "      <td>2</td>\n",
       "      <td>2</td>\n",
       "      <td>5</td>\n",
       "      <td>3</td>\n",
       "      <td>2</td>\n",
       "      <td>7</td>\n",
       "      <td>7</td>\n",
       "      <td>8</td>\n",
       "    </tr>\n",
       "    <tr>\n",
       "      <th>top</th>\n",
       "      <td>toyota</td>\n",
       "      <td>gas</td>\n",
       "      <td>std</td>\n",
       "      <td>four</td>\n",
       "      <td>sedan</td>\n",
       "      <td>fwd</td>\n",
       "      <td>front</td>\n",
       "      <td>ohc</td>\n",
       "      <td>four</td>\n",
       "      <td>mpfi</td>\n",
       "    </tr>\n",
       "    <tr>\n",
       "      <th>freq</th>\n",
       "      <td>32</td>\n",
       "      <td>185</td>\n",
       "      <td>168</td>\n",
       "      <td>114</td>\n",
       "      <td>96</td>\n",
       "      <td>120</td>\n",
       "      <td>202</td>\n",
       "      <td>148</td>\n",
       "      <td>159</td>\n",
       "      <td>94</td>\n",
       "    </tr>\n",
       "  </tbody>\n",
       "</table>\n",
       "</div>"
      ],
      "text/plain": [
       "          make fuel-type aspiration num-of-doors body-style drive-wheels  \\\n",
       "count      205       205        205          203        205          205   \n",
       "unique      22         2          2            2          5            3   \n",
       "top     toyota       gas        std         four      sedan          fwd   \n",
       "freq        32       185        168          114         96          120   \n",
       "\n",
       "       engine-location engine-type num-of-cylinders fuel-system  \n",
       "count              205         205              205         205  \n",
       "unique               2           7                7           8  \n",
       "top              front         ohc             four        mpfi  \n",
       "freq               202         148              159          94  "
      ]
     },
     "execution_count": 27,
     "metadata": {},
     "output_type": "execute_result"
    }
   ],
   "source": [
    "# let's first describe the object features\n",
    "df.describe(include='object')"
   ]
  },
  {
   "cell_type": "markdown",
   "id": "99d7a994",
   "metadata": {},
   "source": [
    "**Discussion**: It seems to me that the feature make is a good predictive feature since it has a highest number of unique values. "
   ]
  },
  {
   "cell_type": "markdown",
   "id": "f9d4f918",
   "metadata": {},
   "source": [
    "Firstly, let's check the **analysis of variance (ANOVA)** showing if there is a large difference between two or more groups within the feature variable make."
   ]
  },
  {
   "cell_type": "code",
   "execution_count": 287,
   "id": "c057c6c7",
   "metadata": {},
   "outputs": [],
   "source": [
    "unique_make_list = [] # this creats a list of unique elements within the column make\n",
    "for b in df['make'].unique():\n",
    "    unique_make_list.append(b)"
   ]
  },
  {
   "cell_type": "code",
   "execution_count": 288,
   "id": "6d101aa6",
   "metadata": {},
   "outputs": [],
   "source": [
    "unique_make_comb = [] # this provides all the combinations of elements within unique_make_list with the length equal to 2\n",
    "for m in itertools.combinations(unique_make_list,2):\n",
    "    unique_make_comb.append(m)"
   ]
  },
  {
   "cell_type": "code",
   "execution_count": 289,
   "id": "8343bdb7",
   "metadata": {},
   "outputs": [],
   "source": [
    "# let's group the data frame with columns make and price based on the column make\n",
    "df_make_price = df[['make','price']]\n",
    "df_make_price_gr = df_make_price.groupby('make')"
   ]
  },
  {
   "cell_type": "code",
   "execution_count": 291,
   "id": "89fa8d70",
   "metadata": {},
   "outputs": [],
   "source": [
    "def ANOVA(x,y): # this extracts prices of unique categories (e.g., mazda) within the column \"make\"\n",
    "    return df_make_price_gr.get_group(unique_make_comb[x][y])['price']"
   ]
  },
  {
   "cell_type": "code",
   "execution_count": 292,
   "id": "137cb27f",
   "metadata": {},
   "outputs": [
    {
     "data": {
      "text/html": [
       "<div>\n",
       "<style scoped>\n",
       "    .dataframe tbody tr th:only-of-type {\n",
       "        vertical-align: middle;\n",
       "    }\n",
       "\n",
       "    .dataframe tbody tr th {\n",
       "        vertical-align: top;\n",
       "    }\n",
       "\n",
       "    .dataframe thead th {\n",
       "        text-align: right;\n",
       "    }\n",
       "</style>\n",
       "<table border=\"1\" class=\"dataframe\">\n",
       "  <thead>\n",
       "    <tr style=\"text-align: right;\">\n",
       "      <th></th>\n",
       "      <th>F-test-score</th>\n",
       "      <th>p-value</th>\n",
       "    </tr>\n",
       "  </thead>\n",
       "  <tbody>\n",
       "    <tr>\n",
       "      <th>alfa-romero and audi</th>\n",
       "      <td>0.574333</td>\n",
       "      <td>4.702747e-01</td>\n",
       "    </tr>\n",
       "    <tr>\n",
       "      <th>audi and bmw</th>\n",
       "      <td>5.693579</td>\n",
       "      <td>3.292893e-02</td>\n",
       "    </tr>\n",
       "    <tr>\n",
       "      <th>bmw and chevrolet</th>\n",
       "      <td>13.196515</td>\n",
       "      <td>5.462600e-03</td>\n",
       "    </tr>\n",
       "    <tr>\n",
       "      <th>chevrolet and dodge</th>\n",
       "      <td>1.947622</td>\n",
       "      <td>1.930565e-01</td>\n",
       "    </tr>\n",
       "    <tr>\n",
       "      <th>dodge and honda</th>\n",
       "      <td>0.112774</td>\n",
       "      <td>7.405057e-01</td>\n",
       "    </tr>\n",
       "    <tr>\n",
       "      <th>honda and isuzu</th>\n",
       "      <td>4.838176</td>\n",
       "      <td>4.393031e-02</td>\n",
       "    </tr>\n",
       "    <tr>\n",
       "      <th>isuzu and jaguar</th>\n",
       "      <td>132.352943</td>\n",
       "      <td>8.698415e-05</td>\n",
       "    </tr>\n",
       "    <tr>\n",
       "      <th>jaguar and mazda</th>\n",
       "      <td>100.741885</td>\n",
       "      <td>8.436916e-09</td>\n",
       "    </tr>\n",
       "    <tr>\n",
       "      <th>mazda and mercedes-benz</th>\n",
       "      <td>114.934859</td>\n",
       "      <td>2.023820e-10</td>\n",
       "    </tr>\n",
       "    <tr>\n",
       "      <th>mercedes-benz and mercury</th>\n",
       "      <td>5.667460</td>\n",
       "      <td>4.883593e-02</td>\n",
       "    </tr>\n",
       "    <tr>\n",
       "      <th>mercury and mitsubishi</th>\n",
       "      <td>5.290192</td>\n",
       "      <td>4.019453e-02</td>\n",
       "    </tr>\n",
       "    <tr>\n",
       "      <th>mitsubishi and nissan</th>\n",
       "      <td>0.669779</td>\n",
       "      <td>4.198031e-01</td>\n",
       "    </tr>\n",
       "    <tr>\n",
       "      <th>nissan and peugot</th>\n",
       "      <td>12.126821</td>\n",
       "      <td>1.709240e-03</td>\n",
       "    </tr>\n",
       "    <tr>\n",
       "      <th>peugot and plymouth</th>\n",
       "      <td>45.652606</td>\n",
       "      <td>4.608619e-06</td>\n",
       "    </tr>\n",
       "    <tr>\n",
       "      <th>plymouth and porsche</th>\n",
       "      <td>26.767718</td>\n",
       "      <td>4.168323e-04</td>\n",
       "    </tr>\n",
       "    <tr>\n",
       "      <th>porsche and renault</th>\n",
       "      <td>6.000657</td>\n",
       "      <td>5.796321e-02</td>\n",
       "    </tr>\n",
       "    <tr>\n",
       "      <th>renault and saab</th>\n",
       "      <td>6.936694</td>\n",
       "      <td>3.886351e-02</td>\n",
       "    </tr>\n",
       "    <tr>\n",
       "      <th>saab and subaru</th>\n",
       "      <td>34.709912</td>\n",
       "      <td>2.275538e-05</td>\n",
       "    </tr>\n",
       "    <tr>\n",
       "      <th>subaru and toyota</th>\n",
       "      <td>1.841552</td>\n",
       "      <td>1.820178e-01</td>\n",
       "    </tr>\n",
       "    <tr>\n",
       "      <th>toyota and volkswagen</th>\n",
       "      <td>0.036339</td>\n",
       "      <td>8.497365e-01</td>\n",
       "    </tr>\n",
       "    <tr>\n",
       "      <th>volkswagen and volvo</th>\n",
       "      <td>47.421015</td>\n",
       "      <td>8.337964e-07</td>\n",
       "    </tr>\n",
       "  </tbody>\n",
       "</table>\n",
       "</div>"
      ],
      "text/plain": [
       "                           F-test-score       p-value\n",
       "alfa-romero and audi           0.574333  4.702747e-01\n",
       "audi and bmw                   5.693579  3.292893e-02\n",
       "bmw and chevrolet             13.196515  5.462600e-03\n",
       "chevrolet and dodge            1.947622  1.930565e-01\n",
       "dodge and honda                0.112774  7.405057e-01\n",
       "honda and isuzu                4.838176  4.393031e-02\n",
       "isuzu and jaguar             132.352943  8.698415e-05\n",
       "jaguar and mazda             100.741885  8.436916e-09\n",
       "mazda and mercedes-benz      114.934859  2.023820e-10\n",
       "mercedes-benz and mercury      5.667460  4.883593e-02\n",
       "mercury and mitsubishi         5.290192  4.019453e-02\n",
       "mitsubishi and nissan          0.669779  4.198031e-01\n",
       "nissan and peugot             12.126821  1.709240e-03\n",
       "peugot and plymouth           45.652606  4.608619e-06\n",
       "plymouth and porsche          26.767718  4.168323e-04\n",
       "porsche and renault            6.000657  5.796321e-02\n",
       "renault and saab               6.936694  3.886351e-02\n",
       "saab and subaru               34.709912  2.275538e-05\n",
       "subaru and toyota              1.841552  1.820178e-01\n",
       "toyota and volkswagen          0.036339  8.497365e-01\n",
       "volkswagen and volvo          47.421015  8.337964e-07"
      ]
     },
     "execution_count": 292,
     "metadata": {},
     "output_type": "execute_result"
    }
   ],
   "source": [
    "# Let's analyze the variance of every two unique make categories\n",
    "ANOVA_values=[]\n",
    "ANOVA_colname=[]\n",
    "for c in range(len(unique_make_list)):\n",
    "    ANOVA_colname.append(unique_make_comb[c])\n",
    "    ANOVA_values.append(scipy.stats.f_oneway(ANOVA(c,0),ANOVA(c,1))[0:2]) \n",
    "df_ANOVA= pd.DataFrame(df_ANOVA_values,df_ANOVA_colname)\n",
    "df_ANOVA.columns=['F-test-score','p-value']\n",
    "df_ANOVA"
   ]
  },
  {
   "cell_type": "markdown",
   "id": "56e9f124",
   "metadata": {},
   "source": [
    "**Discussion**: The first columns shows the F-test-score displaying how much difference there is between the means of different categories of auto make. The second columns shows the p-value indicating how statistically significant the F-test-score is. If the price is strongly correlated with the feature variable make, then we expect to see high f-score and low p-value. For instance, the price of BMW and Audi cars are similar as both are from German companies and both are fairly expensive. As such, the F-score is expected to be small and p-value is expected to be quite large for a BMW and Audi. The data frame above confirms this expectation (F-score=5.69, p-value=0.033)."
   ]
  },
  {
   "cell_type": "code",
   "execution_count": 293,
   "id": "3e4159cd",
   "metadata": {},
   "outputs": [
    {
     "data": {
      "text/html": [
       "<div>\n",
       "<style scoped>\n",
       "    .dataframe tbody tr th:only-of-type {\n",
       "        vertical-align: middle;\n",
       "    }\n",
       "\n",
       "    .dataframe tbody tr th {\n",
       "        vertical-align: top;\n",
       "    }\n",
       "\n",
       "    .dataframe thead th {\n",
       "        text-align: right;\n",
       "    }\n",
       "</style>\n",
       "<table border=\"1\" class=\"dataframe\">\n",
       "  <thead>\n",
       "    <tr style=\"text-align: right;\">\n",
       "      <th></th>\n",
       "      <th>F-test-score</th>\n",
       "      <th>p-value</th>\n",
       "    </tr>\n",
       "  </thead>\n",
       "  <tbody>\n",
       "    <tr>\n",
       "      <th>isuzu and jaguar</th>\n",
       "      <td>132.352943</td>\n",
       "      <td>8.698415e-05</td>\n",
       "    </tr>\n",
       "    <tr>\n",
       "      <th>jaguar and mazda</th>\n",
       "      <td>100.741885</td>\n",
       "      <td>8.436916e-09</td>\n",
       "    </tr>\n",
       "    <tr>\n",
       "      <th>mazda and mercedes-benz</th>\n",
       "      <td>114.934859</td>\n",
       "      <td>2.023820e-10</td>\n",
       "    </tr>\n",
       "    <tr>\n",
       "      <th>peugot and plymouth</th>\n",
       "      <td>45.652606</td>\n",
       "      <td>4.608619e-06</td>\n",
       "    </tr>\n",
       "    <tr>\n",
       "      <th>plymouth and porsche</th>\n",
       "      <td>26.767718</td>\n",
       "      <td>4.168323e-04</td>\n",
       "    </tr>\n",
       "    <tr>\n",
       "      <th>saab and subaru</th>\n",
       "      <td>34.709912</td>\n",
       "      <td>2.275538e-05</td>\n",
       "    </tr>\n",
       "    <tr>\n",
       "      <th>volkswagen and volvo</th>\n",
       "      <td>47.421015</td>\n",
       "      <td>8.337964e-07</td>\n",
       "    </tr>\n",
       "  </tbody>\n",
       "</table>\n",
       "</div>"
      ],
      "text/plain": [
       "                         F-test-score       p-value\n",
       "isuzu and jaguar           132.352943  8.698415e-05\n",
       "jaguar and mazda           100.741885  8.436916e-09\n",
       "mazda and mercedes-benz    114.934859  2.023820e-10\n",
       "peugot and plymouth         45.652606  4.608619e-06\n",
       "plymouth and porsche        26.767718  4.168323e-04\n",
       "saab and subaru             34.709912  2.275538e-05\n",
       "volkswagen and volvo        47.421015  8.337964e-07"
      ]
     },
     "execution_count": 293,
     "metadata": {},
     "output_type": "execute_result"
    }
   ],
   "source": [
    "# filtering all the combincations with p-value smaller than 0.001\n",
    "df_ANOVA[df_ANOVA['p-value']<0.001]"
   ]
  },
  {
   "cell_type": "markdown",
   "id": "cb7c4ff7",
   "metadata": {},
   "source": [
    "**Discussion**: The above data frame shows the categories of car types with p-values less than 0.001. For instance Mazda and Mercedes-benz have very small p-values and high f-scores which make sense as benz cars are very expensive and Maza cars are quite inexpensive. The box plot below shows the mean price values of mazda versus benz auto make."
   ]
  },
  {
   "cell_type": "code",
   "execution_count": 198,
   "id": "938f4404",
   "metadata": {},
   "outputs": [
    {
     "data": {
      "text/plain": [
       "<AxesSubplot:title={'center':'Price distribution of mazda versus mercedes-benz cars'}, xlabel='make', ylabel='price'>"
      ]
     },
     "execution_count": 198,
     "metadata": {},
     "output_type": "execute_result"
    },
    {
     "data": {
      "image/png": "[encoded data removed]",
      "text/plain": [
       "<Figure size 432x288 with 1 Axes>"
      ]
     },
     "metadata": {
      "needs_background": "light"
     },
     "output_type": "display_data"
    }
   ],
   "source": [
    "%%capture --no-display \n",
    "df_limit=df.iloc[60:75,:]\n",
    "plt.title('Price distribution of mazda versus mercedes-benz cars')\n",
    "sns.boxenplot(df_limit['make'],df_limit['price'])"
   ]
  },
  {
   "cell_type": "markdown",
   "id": "f513dd5e",
   "metadata": {},
   "source": [
    "**Discussion**: The box plot above shows the significantly different mean values for the price of Mazda cars versus Benz cars which cofirms the very small p-value presented above."
   ]
  },
  {
   "cell_type": "markdown",
   "id": "ccb00477",
   "metadata": {},
   "source": [
    "Now, let's check the **association** between variables to predict price using Chi square."
   ]
  },
  {
   "cell_type": "code",
   "execution_count": 294,
   "id": "2a2b96fe",
   "metadata": {},
   "outputs": [],
   "source": [
    "def chi_square(var1,var2):    \n",
    "    df_price_make = df[[var1,var2,'price']]\n",
    "    df_price_make_gr = df_price_make.groupby([var1,var2],as_index=False).mean()\n",
    "    df_price_make_pivot = df_price_make_gr.pivot(index=var1,columns=var2)\n",
    "    df_price_make_pivot.fillna(0,inplace=True)\n",
    "    chi_square = scipy.stats.chi2_contingency(df_price_make_pivot,correction=True)\n",
    "    return chi_square[0:3]"
   ]
  },
  {
   "cell_type": "code",
   "execution_count": 295,
   "id": "a9f6e78b",
   "metadata": {},
   "outputs": [],
   "source": [
    "col_obj=[] # this list collects all the columns with object data type\n",
    "for d in df.columns:\n",
    "    if df[d].dtype=='object':\n",
    "        col_obj.append(d)"
   ]
  },
  {
   "cell_type": "code",
   "execution_count": 296,
   "id": "5a1f36c2",
   "metadata": {},
   "outputs": [],
   "source": [
    "col_obj_comb = [] # this list provides all the combinations of elements within col_obj list with the length equal to 2\n",
    "for k in itertools.combinations(col_obj,2):\n",
    "    col_obj_comb.append(k)"
   ]
  },
  {
   "cell_type": "code",
   "execution_count": 298,
   "id": "6078b90b",
   "metadata": {},
   "outputs": [
    {
     "name": "stdout",
     "output_type": "stream",
     "text": [
      "('make', 'fuel-type') (147215.58979607973, 0.0, 21)\n",
      "('make', 'aspiration') (160469.50132348516, 0.0, 21)\n",
      "('make', 'num-of-doors') (94434.61754396914, 0.0, 21)\n",
      "('make', 'body-style') (759904.188260034, 0.0, 84)\n",
      "('make', 'drive-wheels') (444961.6142674795, 0.0, 42)\n",
      "('make', 'engine-location') (221483.97554222212, 0.0, 21)\n",
      "('make', 'engine-type') (1622680.2512554568, 0.0, 126)\n",
      "('make', 'num-of-cylinders') (1567580.0907568969, 0.0, 126)\n",
      "('make', 'fuel-system') (1490366.9111146408, 0.0, 147)\n",
      "('fuel-type', 'aspiration') (988.7794997522026, 4.934145320291949e-217, 1)\n",
      "('fuel-type', 'num-of-doors') (43.18101780588942, 4.9902478409148475e-11, 1)\n",
      "('fuel-type', 'body-style') (24964.396519668997, 0.0, 4)\n",
      "('fuel-type', 'drive-wheels') (9692.28436059937, 0.0, 2)\n",
      "('fuel-type', 'engine-location') (25724.157926953172, 0.0, 1)\n",
      "('fuel-type', 'engine-type') (60403.43008971685, 0.0, 6)\n",
      "('fuel-type', 'num-of-cylinders') (72602.66461179515, 0.0, 6)\n",
      "('fuel-type', 'fuel-system') (95660.87706743521, 0.0, 7)\n",
      "('aspiration', 'num-of-doors') (206.5598508335272, 7.73459812532171e-47, 1)\n",
      "('aspiration', 'body-style') (25498.351135383244, 0.0, 4)\n",
      "('aspiration', 'drive-wheels') (385.4939607548922, 1.9545645539067377e-84, 2)\n",
      "('aspiration', 'engine-location') (26538.913107758955, 0.0, 1)\n",
      "('aspiration', 'engine-type') (25763.435703575837, 0.0, 6)\n",
      "('aspiration', 'num-of-cylinders') (71193.94710308292, 0.0, 6)\n",
      "('aspiration', 'fuel-system') (53633.4223104009, 0.0, 7)\n",
      "('num-of-doors', 'body-style') (51275.601996543446, 0.0, 4)\n",
      "('num-of-doors', 'drive-wheels') (35.90680495299489, 1.5956453578177817e-08, 2)\n",
      "('num-of-doors', 'engine-location') (23579.024788464387, 0.0, 1)\n",
      "('num-of-doors', 'engine-type') (36865.33552357034, 0.0, 6)\n",
      "('num-of-doors', 'num-of-cylinders') (48301.75427498894, 0.0, 6)\n",
      "('num-of-doors', 'fuel-system') (30300.018614820212, 0.0, 7)\n",
      "('body-style', 'drive-wheels') (25190.008918204763, 0.0, 8)\n",
      "('body-style', 'engine-location') (46893.06199567323, 0.0, 4)\n",
      "('body-style', 'engine-type') (224747.83830256553, 0.0, 24)\n",
      "('body-style', 'num-of-cylinders') (272222.5556735017, 0.0, 24)\n",
      "('body-style', 'fuel-system') (184031.85086267817, 0.0, 28)\n",
      "('drive-wheels', 'engine-location') (24167.618626591626, 0.0, 2)\n",
      "('drive-wheels', 'engine-type') (60018.10888391436, 0.0, 12)\n",
      "('drive-wheels', 'num-of-cylinders') (95818.29455927393, 0.0, 12)\n",
      "('drive-wheels', 'fuel-system') (89871.6971329473, 0.0, 14)\n",
      "('engine-location', 'engine-type') (102109.2331211948, 0.0, 6)\n",
      "('engine-location', 'num-of-cylinders') (90581.27842617768, 0.0, 6)\n",
      "('engine-location', 'fuel-system') (71447.72435182755, 0.0, 7)\n",
      "('engine-type', 'num-of-cylinders') (710627.7796329695, 0.0, 36)\n",
      "('engine-type', 'fuel-system') (269421.71273763815, 0.0, 42)\n",
      "('num-of-cylinders', 'fuel-system') (448732.2851236536, 0.0, 42)\n"
     ]
    }
   ],
   "source": [
    "# let's analyze the association (i.e., chi-square and p-value) between differnt object type features using chi-square method\n",
    "for f in range(len(col_obj_comb)):\n",
    "    print(col_obj_comb[f],chi_square(col_obj_comb[f][0],col_obj_comb[f][1]))"
   ]
  },
  {
   "cell_type": "markdown",
   "id": "2821e5f1",
   "metadata": {},
   "source": [
    "**Discussion**: The chi square values above indicate for all combination of object type feature variables reject the null hypothesis (i.e., p-value is smaller than 0.001)."
   ]
  }
 ],
 "metadata": {
  "kernelspec": {
   "display_name": "Python 3",
   "language": "python",
   "name": "python3"
  },
  "language_info": {
   "codemirror_mode": {
    "name": "ipython",
    "version": 3
   },
   "file_extension": ".py",
   "mimetype": "text/x-python",
   "name": "python",
   "nbconvert_exporter": "python",
   "pygments_lexer": "ipython3",
   "version": "3.8.8"
  }
 },
 "nbformat": 4,
 "nbformat_minor": 5
}
